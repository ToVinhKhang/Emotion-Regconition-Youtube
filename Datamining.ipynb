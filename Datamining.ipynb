{
 "cells": [
  {
   "cell_type": "markdown",
   "metadata": {},
   "source": [
    "### IMPORT PACKAGES"
   ]
  },
  {
   "cell_type": "code",
   "execution_count": 1,
   "metadata": {},
   "outputs": [],
   "source": [
    "import os\n",
    "import time\n",
    "import pandas as pd\n",
    "from selenium.webdriver import Chrome\n",
    "from selenium.webdriver.common.by import By\n",
    "from selenium.webdriver.common.keys import Keys\n",
    "from selenium.webdriver.support.ui import WebDriverWait as WDW\n",
    "from selenium.webdriver.support import expected_conditions as EC\n",
    "from sklearn.model_selection import train_test_split\n",
    "from sklearn.tree import DecisionTreeClassifier\n",
    "from sklearn.metrics import f1_score, accuracy_score, precision_score\n",
    "from sklearn.feature_extraction.text import TfidfVectorizer\n",
    "#!pip install torch --use-feature=2020-resolver\n",
    "from underthesea import word_tokenize\n",
    "from xlrd import open_workbook\n",
    "import matplotlib.pyplot as plt\n",
    "%matplotlib inline"
   ]
  },
  {
   "cell_type": "markdown",
   "metadata": {},
   "source": [
    "### TASK 1: COLLECTING DATA"
   ]
  },
  {
   "cell_type": "markdown",
   "metadata": {},
   "source": [
    "#### 1.1 Functions to Get data from 3 Youtube Videos (Khoa Pug)"
   ]
  },
  {
   "cell_type": "code",
   "execution_count": 2,
   "metadata": {},
   "outputs": [],
   "source": [
    "# Create ChromeDriver to executable that Selenium WebDriver uses to control Chrome\n",
    "def ChromeDriver(url,t):\n",
    "    data = []\n",
    "    with Chrome(executable_path = r'./chromedriver') as ChD:\n",
    "        wait = WDW(ChD,t)\n",
    "        ChD.get(url)\n",
    "        for item in range(101): \n",
    "            wait.until(EC.visibility_of_element_located((By.TAG_NAME, \"body\"))).send_keys(Keys.END)\n",
    "            time.sleep(t)\n",
    "        for comment in wait.until(EC.presence_of_all_elements_located((By.CSS_SELECTOR, \"#content\"))):\n",
    "            if(len(str(comment.text))>10): # Do not accept short comment or doesn't mean much\n",
    "                data.append(comment.text)\n",
    "            if(len(data)==103): # 100 comments + 3(title,description,first comment of Khoa Pug)\n",
    "                break\n",
    "    return data\n",
    "\n",
    "def getData_Video(url,t):\n",
    "    data = ChromeDriver(url,t)\n",
    "    while(len(data)==103):\n",
    "        for i in range(3): # Remove 3(title,description,first comment of Khoa Pug)\n",
    "            data.pop(0)\n",
    "        print(\"Success!! Crawled 100 comments from Video [\" + url.split(\"v=\")[1] + \"]!\")\n",
    "        return data\n",
    "    print(\"Failed!! Please try again.\")\n",
    "    return data"
   ]
  },
  {
   "cell_type": "markdown",
   "metadata": {},
   "source": [
    "#### 1.2 Choose 3 Videos and Make storageDir"
   ]
  },
  {
   "cell_type": "code",
   "execution_count": 3,
   "metadata": {},
   "outputs": [],
   "source": [
    "url1 = \"https://www.youtube.com/watch?v=hassqXTvsXM\"\n",
    "url2 = \"https://www.youtube.com/watch?v=RG-dXrbRNuw\"\n",
    "url3 = \"https://www.youtube.com/watch?v=ipSpPzFqNH0\"\n",
    "\n",
    "storageDir = \"dataList/\"\n",
    "if not os.path.exists(storageDir):\n",
    "    os.makedirs(storageDir)"
   ]
  },
  {
   "cell_type": "markdown",
   "metadata": {},
   "source": [
    "#### 1.3 Crawling 100 comments"
   ]
  },
  {
   "cell_type": "code",
   "execution_count": 4,
   "metadata": {},
   "outputs": [
    {
     "name": "stdout",
     "output_type": "stream",
     "text": [
      "Success!! Crawled 100 comments from Video [hassqXTvsXM]!\n"
     ]
    }
   ],
   "source": [
    "data1 = getData_Video(url1,0.035)"
   ]
  },
  {
   "cell_type": "code",
   "execution_count": 5,
   "metadata": {},
   "outputs": [
    {
     "name": "stdout",
     "output_type": "stream",
     "text": [
      "Success!! Crawled 100 comments from Video [RG-dXrbRNuw]!\n"
     ]
    }
   ],
   "source": [
    "data2 = getData_Video(url2,0.040)"
   ]
  },
  {
   "cell_type": "code",
   "execution_count": 6,
   "metadata": {},
   "outputs": [
    {
     "name": "stdout",
     "output_type": "stream",
     "text": [
      "Success!! Crawled 100 comments from Video [ipSpPzFqNH0]!\n"
     ]
    }
   ],
   "source": [
    "data3 = getData_Video(url3,0.025)"
   ]
  },
  {
   "cell_type": "markdown",
   "metadata": {},
   "source": [
    "#### 1.4 Label these comments by yourself in 7 classes"
   ]
  },
  {
   "cell_type": "code",
   "execution_count": 7,
   "metadata": {},
   "outputs": [],
   "source": [
    "DG = \"Disgust\"\n",
    "EJ = \"Enjoyment\"\n",
    "AG = \"Anger\"\n",
    "SP = \"Surprise\"\n",
    "SN = \"Sadness\"\n",
    "FE = \"Fear\"\n",
    "OT = \"Other\"\n",
    "\n",
    "emotion1 = [\n",
    "    OT,EJ,EJ,OT,OT,SN,SN,OT,EJ,EJ,\n",
    "    SP,EJ,EJ,OT,OT,OT,EJ,OT,EJ,EJ,\n",
    "    SP,EJ,EJ,OT,SP,OT,EJ,EJ,EJ,OT,\n",
    "    EJ,EJ,EJ,OT,OT,OT,SN,OT,EJ,DG,\n",
    "    EJ,EJ,EJ,EJ,EJ,EJ,OT,OT,EJ,EJ,\n",
    "    EJ,FE,EJ,OT,OT,OT,EJ,OT,EJ,OT,\n",
    "    OT,SP,SP,OT,OT,EJ,EJ,OT,EJ,EJ,\n",
    "    DG,SP,AG,OT,OT,EJ,OT,SN,EJ,EJ,\n",
    "    OT,EJ,EJ,EJ,OT,EJ,OT,FE,EJ,EJ,\n",
    "    EJ,OT,OT,SP,OT,OT,DG,OT,EJ,OT\n",
    "]\n",
    "emotion2 = [\n",
    "    OT,EJ,SN,EJ,SP,OT,OT,FE,OT,EJ,\n",
    "    SP,EJ,EJ,AG,OT,OT,SN,EJ,OT,OT,\n",
    "    OT,EJ,SN,EJ,EJ,DG,OT,OT,EJ,EJ,\n",
    "    EJ,EJ,EJ,SN,OT,OT,EJ,EJ,EJ,OT,\n",
    "    SN,OT,EJ,EJ,EJ,EJ,OT,EJ,OT,OT,\n",
    "    OT,OT,EJ,EJ,OT,OT,EJ,OT,OT,OT,\n",
    "    OT,EJ,EJ,EJ,EJ,EJ,OT,OT,EJ,EJ,\n",
    "    EJ,OT,OT,OT,OT,SN,OT,EJ,EJ,EJ,\n",
    "    OT,OT,EJ,OT,OT,EJ,EJ,SP,FE,OT,\n",
    "    OT,OT,EJ,OT,OT,EJ,OT,OT,OT,EJ\n",
    "]\n",
    "emotion3 = [\n",
    "    OT,OT,EJ,OT,OT,EJ,OT,EJ,FE,FE,\n",
    "    EJ,EJ,SP,SP,SN,OT,EJ,OT,OT,EJ,\n",
    "    EJ,FE,SN,EJ,OT,OT,EJ,EJ,FE,EJ,\n",
    "    SN,EJ,EJ,OT,EJ,FE,SN,OT,EJ,OT,\n",
    "    SN,EJ,EJ,SN,EJ,EJ,SN,OT,EJ,EJ,\n",
    "    OT,FE,SN,AG,OT,OT,EJ,OT,EJ,OT,\n",
    "    OT,SP,SP,OT,SN,EJ,EJ,SN,OT,OT,\n",
    "    SP,SP,EJ,OT,OT,EJ,OT,OT,DG,SN,\n",
    "    OT,AG,EJ,EJ,OT,SN,SP,FE,SN,EJ,\n",
    "    EJ,EJ,EJ,OT,OT,SP,FE,SP,EJ,FE\n",
    "]"
   ]
  },
  {
   "cell_type": "markdown",
   "metadata": {},
   "source": [
    "#### 1.5 Write data to CSV"
   ]
  },
  {
   "cell_type": "code",
   "execution_count": 8,
   "metadata": {},
   "outputs": [
    {
     "data": {
      "text/html": [
       "<div>\n",
       "<style scoped>\n",
       "    .dataframe tbody tr th:only-of-type {\n",
       "        vertical-align: middle;\n",
       "    }\n",
       "\n",
       "    .dataframe tbody tr th {\n",
       "        vertical-align: top;\n",
       "    }\n",
       "\n",
       "    .dataframe thead th {\n",
       "        text-align: right;\n",
       "    }\n",
       "</style>\n",
       "<table border=\"1\" class=\"dataframe\">\n",
       "  <thead>\n",
       "    <tr style=\"text-align: right;\">\n",
       "      <th></th>\n",
       "      <th>Emotion</th>\n",
       "      <th>Sentence</th>\n",
       "    </tr>\n",
       "  </thead>\n",
       "  <tbody>\n",
       "    <tr>\n",
       "      <th>0</th>\n",
       "      <td>Other</td>\n",
       "      <td>Số người mún ah Khoa cho xem mặt cameraman dựa...</td>\n",
       "    </tr>\n",
       "    <tr>\n",
       "      <th>1</th>\n",
       "      <td>Enjoyment</td>\n",
       "      <td>Kết mỗi câu :” Hầu như mọi người trên thế giới...</td>\n",
       "    </tr>\n",
       "    <tr>\n",
       "      <th>2</th>\n",
       "      <td>Enjoyment</td>\n",
       "      <td>9:30 giống trẻ trâu ai cập</td>\n",
       "    </tr>\n",
       "    <tr>\n",
       "      <th>3</th>\n",
       "      <td>Other</td>\n",
       "      <td>Ổng nói tiếng Anh mà giống tiếng Việt nghe mắc...</td>\n",
       "    </tr>\n",
       "    <tr>\n",
       "      <th>4</th>\n",
       "      <td>Other</td>\n",
       "      <td>\" mình ăn cho ông ấy biết mặt Việt Nam\". Anh ạ...</td>\n",
       "    </tr>\n",
       "  </tbody>\n",
       "</table>\n",
       "</div>"
      ],
      "text/plain": [
       "     Emotion                                           Sentence\n",
       "0      Other  Số người mún ah Khoa cho xem mặt cameraman dựa...\n",
       "1  Enjoyment  Kết mỗi câu :” Hầu như mọi người trên thế giới...\n",
       "2  Enjoyment                         9:30 giống trẻ trâu ai cập\n",
       "3      Other  Ổng nói tiếng Anh mà giống tiếng Việt nghe mắc...\n",
       "4      Other  \" mình ăn cho ông ấy biết mặt Việt Nam\". Anh ạ..."
      ]
     },
     "execution_count": 8,
     "metadata": {},
     "output_type": "execute_result"
    }
   ],
   "source": [
    "dataList1 = {\"Emotion\": emotion1, \"Sentence\": data1}\n",
    "\n",
    "df1 = pd.DataFrame(dataList1)\n",
    "df1.to_csv(storageDir + \"dataList1.csv\", encoding = \"utf-8-sig\")\n",
    "df1.head()"
   ]
  },
  {
   "cell_type": "code",
   "execution_count": 9,
   "metadata": {},
   "outputs": [
    {
     "data": {
      "text/html": [
       "<div>\n",
       "<style scoped>\n",
       "    .dataframe tbody tr th:only-of-type {\n",
       "        vertical-align: middle;\n",
       "    }\n",
       "\n",
       "    .dataframe tbody tr th {\n",
       "        vertical-align: top;\n",
       "    }\n",
       "\n",
       "    .dataframe thead th {\n",
       "        text-align: right;\n",
       "    }\n",
       "</style>\n",
       "<table border=\"1\" class=\"dataframe\">\n",
       "  <thead>\n",
       "    <tr style=\"text-align: right;\">\n",
       "      <th></th>\n",
       "      <th>Emotion</th>\n",
       "      <th>Sentence</th>\n",
       "    </tr>\n",
       "  </thead>\n",
       "  <tbody>\n",
       "    <tr>\n",
       "      <th>0</th>\n",
       "      <td>Other</td>\n",
       "      <td>Review về Dubai đi anh Khoa. Ai đồng ý xin 1 l...</td>\n",
       "    </tr>\n",
       "    <tr>\n",
       "      <th>1</th>\n",
       "      <td>Enjoyment</td>\n",
       "      <td>Nhìn ổng review đồ ăn mà mình chỉ biết ngậm ng...</td>\n",
       "    </tr>\n",
       "    <tr>\n",
       "      <th>2</th>\n",
       "      <td>Sadness</td>\n",
       "      <td>Lao động nghèo như mình k bk chừng nào ngặm dc...</td>\n",
       "    </tr>\n",
       "    <tr>\n",
       "      <th>3</th>\n",
       "      <td>Enjoyment</td>\n",
       "      <td>T mắc cười khúc đầu bếp chào xong cái ông Khoa...</td>\n",
       "    </tr>\n",
       "    <tr>\n",
       "      <th>4</th>\n",
       "      <td>Surprise</td>\n",
       "      <td>Khách hàng được phụ vụ như thượng đế!\\nMột câu...</td>\n",
       "    </tr>\n",
       "  </tbody>\n",
       "</table>\n",
       "</div>"
      ],
      "text/plain": [
       "     Emotion                                           Sentence\n",
       "0      Other  Review về Dubai đi anh Khoa. Ai đồng ý xin 1 l...\n",
       "1  Enjoyment  Nhìn ổng review đồ ăn mà mình chỉ biết ngậm ng...\n",
       "2    Sadness  Lao động nghèo như mình k bk chừng nào ngặm dc...\n",
       "3  Enjoyment  T mắc cười khúc đầu bếp chào xong cái ông Khoa...\n",
       "4   Surprise  Khách hàng được phụ vụ như thượng đế!\\nMột câu..."
      ]
     },
     "execution_count": 9,
     "metadata": {},
     "output_type": "execute_result"
    }
   ],
   "source": [
    "dataList2 = {\"Emotion\": emotion2, \"Sentence\": data2}\n",
    "\n",
    "df2 = pd.DataFrame(dataList2)\n",
    "df2.to_csv(storageDir + \"dataList2.csv\", encoding = \"utf-8-sig\")\n",
    "df2.head()"
   ]
  },
  {
   "cell_type": "code",
   "execution_count": 10,
   "metadata": {},
   "outputs": [
    {
     "data": {
      "text/html": [
       "<div>\n",
       "<style scoped>\n",
       "    .dataframe tbody tr th:only-of-type {\n",
       "        vertical-align: middle;\n",
       "    }\n",
       "\n",
       "    .dataframe tbody tr th {\n",
       "        vertical-align: top;\n",
       "    }\n",
       "\n",
       "    .dataframe thead th {\n",
       "        text-align: right;\n",
       "    }\n",
       "</style>\n",
       "<table border=\"1\" class=\"dataframe\">\n",
       "  <thead>\n",
       "    <tr style=\"text-align: right;\">\n",
       "      <th></th>\n",
       "      <th>Emotion</th>\n",
       "      <th>Sentence</th>\n",
       "    </tr>\n",
       "  </thead>\n",
       "  <tbody>\n",
       "    <tr>\n",
       "      <th>0</th>\n",
       "      <td>Other</td>\n",
       "      <td>ở ấn độ có người nhiễm cúm corona rồi đó, ko t...</td>\n",
       "    </tr>\n",
       "    <tr>\n",
       "      <th>1</th>\n",
       "      <td>Other</td>\n",
       "      <td>10tr lượt view rồi, thời đến đỡ ko kịp</td>\n",
       "    </tr>\n",
       "    <tr>\n",
       "      <th>2</th>\n",
       "      <td>Enjoyment</td>\n",
       "      <td>Ôi bình yên. K ai nghĩ 1 năm sau đại họa sảy r...</td>\n",
       "    </tr>\n",
       "    <tr>\n",
       "      <th>3</th>\n",
       "      <td>Other</td>\n",
       "      <td>Số người 2021 xem lại vì nghe tin thảm họa cov...</td>\n",
       "    </tr>\n",
       "    <tr>\n",
       "      <th>4</th>\n",
       "      <td>Other</td>\n",
       "      <td>Ai vẫn còn xem điểm danh nào</td>\n",
       "    </tr>\n",
       "  </tbody>\n",
       "</table>\n",
       "</div>"
      ],
      "text/plain": [
       "     Emotion                                           Sentence\n",
       "0      Other  ở ấn độ có người nhiễm cúm corona rồi đó, ko t...\n",
       "1      Other             10tr lượt view rồi, thời đến đỡ ko kịp\n",
       "2  Enjoyment  Ôi bình yên. K ai nghĩ 1 năm sau đại họa sảy r...\n",
       "3      Other  Số người 2021 xem lại vì nghe tin thảm họa cov...\n",
       "4      Other                       Ai vẫn còn xem điểm danh nào"
      ]
     },
     "execution_count": 10,
     "metadata": {},
     "output_type": "execute_result"
    }
   ],
   "source": [
    "dataList3 = {\"Emotion\": emotion3, \"Sentence\": data3}\n",
    "\n",
    "df3 = pd.DataFrame(dataList3)\n",
    "df3.to_csv(storageDir + \"dataList3.csv\", encoding = \"utf-8-sig\")\n",
    "df3.head()"
   ]
  },
  {
   "cell_type": "markdown",
   "metadata": {},
   "source": [
    "#### 1.6 Read data from CSV"
   ]
  },
  {
   "cell_type": "code",
   "execution_count": 11,
   "metadata": {},
   "outputs": [],
   "source": [
    "dataList1 = pd.read_csv(storageDir + \"dataList1.csv\", encoding = \"utf8\")\n",
    "dataList2 = pd.read_csv(storageDir + \"dataList2.csv\", encoding = \"utf8\")\n",
    "dataList3 = pd.read_csv(storageDir + \"dataList3.csv\", encoding = \"utf8\")"
   ]
  },
  {
   "cell_type": "markdown",
   "metadata": {},
   "source": [
    "#### 1.7 Remove redundant attributes"
   ]
  },
  {
   "cell_type": "code",
   "execution_count": 12,
   "metadata": {},
   "outputs": [
    {
     "data": {
      "text/plain": [
       "0      0\n",
       "1      1\n",
       "2      2\n",
       "3      3\n",
       "4      4\n",
       "      ..\n",
       "95    95\n",
       "96    96\n",
       "97    97\n",
       "98    98\n",
       "99    99\n",
       "Name: Unnamed: 0, Length: 100, dtype: int64"
      ]
     },
     "execution_count": 12,
     "metadata": {},
     "output_type": "execute_result"
    }
   ],
   "source": [
    "dataList1.pop(\"Unnamed: 0\")\n",
    "dataList2.pop(\"Unnamed: 0\")\n",
    "dataList3.pop(\"Unnamed: 0\")"
   ]
  },
  {
   "cell_type": "markdown",
   "metadata": {},
   "source": [
    "#### 1.8 Add column length of sentence"
   ]
  },
  {
   "cell_type": "code",
   "execution_count": 13,
   "metadata": {},
   "outputs": [
    {
     "data": {
      "text/html": [
       "<div>\n",
       "<style scoped>\n",
       "    .dataframe tbody tr th:only-of-type {\n",
       "        vertical-align: middle;\n",
       "    }\n",
       "\n",
       "    .dataframe tbody tr th {\n",
       "        vertical-align: top;\n",
       "    }\n",
       "\n",
       "    .dataframe thead th {\n",
       "        text-align: right;\n",
       "    }\n",
       "</style>\n",
       "<table border=\"1\" class=\"dataframe\">\n",
       "  <thead>\n",
       "    <tr style=\"text-align: right;\">\n",
       "      <th></th>\n",
       "      <th>Emotion</th>\n",
       "      <th>Sentence</th>\n",
       "      <th>Length</th>\n",
       "    </tr>\n",
       "  </thead>\n",
       "  <tbody>\n",
       "    <tr>\n",
       "      <th>0</th>\n",
       "      <td>Other</td>\n",
       "      <td>Số người mún ah Khoa cho xem mặt cameraman dựa...</td>\n",
       "      <td>58</td>\n",
       "    </tr>\n",
       "    <tr>\n",
       "      <th>1</th>\n",
       "      <td>Enjoyment</td>\n",
       "      <td>Kết mỗi câu :” Hầu như mọi người trên thế giới...</td>\n",
       "      <td>95</td>\n",
       "    </tr>\n",
       "    <tr>\n",
       "      <th>2</th>\n",
       "      <td>Enjoyment</td>\n",
       "      <td>9:30 giống trẻ trâu ai cập</td>\n",
       "      <td>26</td>\n",
       "    </tr>\n",
       "    <tr>\n",
       "      <th>3</th>\n",
       "      <td>Other</td>\n",
       "      <td>Ổng nói tiếng Anh mà giống tiếng Việt nghe mắc...</td>\n",
       "      <td>69</td>\n",
       "    </tr>\n",
       "    <tr>\n",
       "      <th>4</th>\n",
       "      <td>Other</td>\n",
       "      <td>\" mình ăn cho ông ấy biết mặt Việt Nam\". Anh ạ...</td>\n",
       "      <td>104</td>\n",
       "    </tr>\n",
       "  </tbody>\n",
       "</table>\n",
       "</div>"
      ],
      "text/plain": [
       "     Emotion                                           Sentence  Length\n",
       "0      Other  Số người mún ah Khoa cho xem mặt cameraman dựa...      58\n",
       "1  Enjoyment  Kết mỗi câu :” Hầu như mọi người trên thế giới...      95\n",
       "2  Enjoyment                         9:30 giống trẻ trâu ai cập      26\n",
       "3      Other  Ổng nói tiếng Anh mà giống tiếng Việt nghe mắc...      69\n",
       "4      Other  \" mình ăn cho ông ấy biết mặt Việt Nam\". Anh ạ...     104"
      ]
     },
     "execution_count": 13,
     "metadata": {},
     "output_type": "execute_result"
    }
   ],
   "source": [
    "lengthDataList1 = []\n",
    "lengthDataList2 = []\n",
    "lengthDataList3 = []\n",
    "for i in range(100):\n",
    "    lengthDataList1.append(len(dataList1.Sentence[i]))\n",
    "    lengthDataList2.append(len(dataList2.Sentence[i]))\n",
    "    lengthDataList3.append(len(dataList3.Sentence[i]))\n",
    "\n",
    "dataList1[\"Length\"] = lengthDataList1\n",
    "dataList2[\"Length\"] = lengthDataList2\n",
    "dataList3[\"Length\"] = lengthDataList3\n",
    "\n",
    "dataList1.head()"
   ]
  },
  {
   "cell_type": "code",
   "execution_count": 14,
   "metadata": {},
   "outputs": [
    {
     "data": {
      "text/html": [
       "<div>\n",
       "<style scoped>\n",
       "    .dataframe tbody tr th:only-of-type {\n",
       "        vertical-align: middle;\n",
       "    }\n",
       "\n",
       "    .dataframe tbody tr th {\n",
       "        vertical-align: top;\n",
       "    }\n",
       "\n",
       "    .dataframe thead th {\n",
       "        text-align: right;\n",
       "    }\n",
       "</style>\n",
       "<table border=\"1\" class=\"dataframe\">\n",
       "  <thead>\n",
       "    <tr style=\"text-align: right;\">\n",
       "      <th></th>\n",
       "      <th>Emotion</th>\n",
       "      <th>Sentence</th>\n",
       "      <th>Length</th>\n",
       "    </tr>\n",
       "  </thead>\n",
       "  <tbody>\n",
       "    <tr>\n",
       "      <th>0</th>\n",
       "      <td>Other</td>\n",
       "      <td>Review về Dubai đi anh Khoa. Ai đồng ý xin 1 l...</td>\n",
       "      <td>75</td>\n",
       "    </tr>\n",
       "    <tr>\n",
       "      <th>1</th>\n",
       "      <td>Enjoyment</td>\n",
       "      <td>Nhìn ổng review đồ ăn mà mình chỉ biết ngậm ng...</td>\n",
       "      <td>120</td>\n",
       "    </tr>\n",
       "    <tr>\n",
       "      <th>2</th>\n",
       "      <td>Sadness</td>\n",
       "      <td>Lao động nghèo như mình k bk chừng nào ngặm dc...</td>\n",
       "      <td>170</td>\n",
       "    </tr>\n",
       "    <tr>\n",
       "      <th>3</th>\n",
       "      <td>Enjoyment</td>\n",
       "      <td>T mắc cười khúc đầu bếp chào xong cái ông Khoa...</td>\n",
       "      <td>99</td>\n",
       "    </tr>\n",
       "    <tr>\n",
       "      <th>4</th>\n",
       "      <td>Surprise</td>\n",
       "      <td>Khách hàng được phụ vụ như thượng đế!\\nMột câu...</td>\n",
       "      <td>145</td>\n",
       "    </tr>\n",
       "  </tbody>\n",
       "</table>\n",
       "</div>"
      ],
      "text/plain": [
       "     Emotion                                           Sentence  Length\n",
       "0      Other  Review về Dubai đi anh Khoa. Ai đồng ý xin 1 l...      75\n",
       "1  Enjoyment  Nhìn ổng review đồ ăn mà mình chỉ biết ngậm ng...     120\n",
       "2    Sadness  Lao động nghèo như mình k bk chừng nào ngặm dc...     170\n",
       "3  Enjoyment  T mắc cười khúc đầu bếp chào xong cái ông Khoa...      99\n",
       "4   Surprise  Khách hàng được phụ vụ như thượng đế!\\nMột câu...     145"
      ]
     },
     "execution_count": 14,
     "metadata": {},
     "output_type": "execute_result"
    }
   ],
   "source": [
    "dataList2.head()"
   ]
  },
  {
   "cell_type": "code",
   "execution_count": 15,
   "metadata": {},
   "outputs": [
    {
     "data": {
      "text/html": [
       "<div>\n",
       "<style scoped>\n",
       "    .dataframe tbody tr th:only-of-type {\n",
       "        vertical-align: middle;\n",
       "    }\n",
       "\n",
       "    .dataframe tbody tr th {\n",
       "        vertical-align: top;\n",
       "    }\n",
       "\n",
       "    .dataframe thead th {\n",
       "        text-align: right;\n",
       "    }\n",
       "</style>\n",
       "<table border=\"1\" class=\"dataframe\">\n",
       "  <thead>\n",
       "    <tr style=\"text-align: right;\">\n",
       "      <th></th>\n",
       "      <th>Emotion</th>\n",
       "      <th>Sentence</th>\n",
       "      <th>Length</th>\n",
       "    </tr>\n",
       "  </thead>\n",
       "  <tbody>\n",
       "    <tr>\n",
       "      <th>0</th>\n",
       "      <td>Other</td>\n",
       "      <td>ở ấn độ có người nhiễm cúm corona rồi đó, ko t...</td>\n",
       "      <td>150</td>\n",
       "    </tr>\n",
       "    <tr>\n",
       "      <th>1</th>\n",
       "      <td>Other</td>\n",
       "      <td>10tr lượt view rồi, thời đến đỡ ko kịp</td>\n",
       "      <td>38</td>\n",
       "    </tr>\n",
       "    <tr>\n",
       "      <th>2</th>\n",
       "      <td>Enjoyment</td>\n",
       "      <td>Ôi bình yên. K ai nghĩ 1 năm sau đại họa sảy r...</td>\n",
       "      <td>99</td>\n",
       "    </tr>\n",
       "    <tr>\n",
       "      <th>3</th>\n",
       "      <td>Other</td>\n",
       "      <td>Số người 2021 xem lại vì nghe tin thảm họa cov...</td>\n",
       "      <td>85</td>\n",
       "    </tr>\n",
       "    <tr>\n",
       "      <th>4</th>\n",
       "      <td>Other</td>\n",
       "      <td>Ai vẫn còn xem điểm danh nào</td>\n",
       "      <td>28</td>\n",
       "    </tr>\n",
       "  </tbody>\n",
       "</table>\n",
       "</div>"
      ],
      "text/plain": [
       "     Emotion                                           Sentence  Length\n",
       "0      Other  ở ấn độ có người nhiễm cúm corona rồi đó, ko t...     150\n",
       "1      Other             10tr lượt view rồi, thời đến đỡ ko kịp      38\n",
       "2  Enjoyment  Ôi bình yên. K ai nghĩ 1 năm sau đại họa sảy r...      99\n",
       "3      Other  Số người 2021 xem lại vì nghe tin thảm họa cov...      85\n",
       "4      Other                       Ai vẫn còn xem điểm danh nào      28"
      ]
     },
     "execution_count": 15,
     "metadata": {},
     "output_type": "execute_result"
    }
   ],
   "source": [
    "dataList3.head()"
   ]
  },
  {
   "cell_type": "markdown",
   "metadata": {},
   "source": [
    "#### 1.9 Show Histogram Graph & Pie Chart"
   ]
  },
  {
   "cell_type": "code",
   "execution_count": 16,
   "metadata": {},
   "outputs": [
    {
     "data": {
      "image/png": "[encoded data removed]",
      "text/plain": [
       "<Figure size 432x216 with 1 Axes>"
      ]
     },
     "metadata": {
      "needs_background": "light"
     },
     "output_type": "display_data"
    },
    {
     "data": {
      "image/png": "[encoded data removed]",
      "text/plain": [
       "<Figure size 432x288 with 1 Axes>"
      ]
     },
     "metadata": {},
     "output_type": "display_data"
    },
    {
     "data": {
      "image/png": "[encoded data removed]",
      "text/plain": [
       "<Figure size 432x216 with 1 Axes>"
      ]
     },
     "metadata": {
      "needs_background": "light"
     },
     "output_type": "display_data"
    },
    {
     "data": {
      "image/png": "[encoded data removed]",
      "text/plain": [
       "<Figure size 432x288 with 1 Axes>"
      ]
     },
     "metadata": {},
     "output_type": "display_data"
    },
    {
     "data": {
      "image/png": "[encoded data removed]",
      "text/plain": [
       "<Figure size 432x216 with 1 Axes>"
      ]
     },
     "metadata": {
      "needs_background": "light"
     },
     "output_type": "display_data"
    },
    {
     "data": {
      "image/png": "[encoded data removed]",
      "text/plain": [
       "<Figure size 432x288 with 1 Axes>"
      ]
     },
     "metadata": {},
     "output_type": "display_data"
    }
   ],
   "source": [
    "def Show_HistGraph_And_PieChart(dataList):\n",
    "    E_DG = dataList.loc[dataList.Emotion == DG, 'Length']\n",
    "    E_EJ = dataList.loc[dataList.Emotion == EJ, 'Length']\n",
    "    E_AG = dataList.loc[dataList.Emotion == AG, 'Length']\n",
    "    E_SP = dataList.loc[dataList.Emotion == SP, 'Length']\n",
    "    E_SN = dataList.loc[dataList.Emotion == SN, 'Length']\n",
    "    E_FE = dataList.loc[dataList.Emotion == FE, 'Length']\n",
    "    E_OT = dataList.loc[dataList.Emotion == OT, 'Length']\n",
    "    \n",
    "    # Histogram Graph\n",
    "    config = dict(alpha=0.4, bins=30, edgecolor = \"black\")\n",
    "    plt.figure(figsize=(6,3))\n",
    "    plt.hist(E_DG, **config, color = 'b', label = 'Disgust')\n",
    "    plt.hist(E_EJ, **config, color = 'r', label = 'Enjoyment')\n",
    "    plt.hist(E_AG, **config, color = 'g', label = 'Anger')\n",
    "    plt.hist(E_SP, **config, color = 'c', label = 'Surprise')\n",
    "    plt.hist(E_SN, **config, color = 'm', label = 'Sadness')\n",
    "    plt.hist(E_FE, **config, color = 'y', label = 'Fear')\n",
    "    plt.hist(E_OT, **config, color = 'k', label = 'Other')\n",
    "    plt.ylabel('Frequency')\n",
    "    plt.xlabel('Sentence Length')\n",
    "    plt.legend();\n",
    "    \n",
    "    # Pie Chart\n",
    "    Pie = [len(E_DG),len(E_EJ),len(E_AG),len(E_SP),len(E_SN),len(E_FE),len(E_OT)]\n",
    "    f, Ax = plt.subplots()\n",
    "    Ax.pie(Pie, labels=['DG','EJ','AG','SP','SN','FE','OT'], autopct='%1.0f%%', startangle=90)\n",
    "    Ax.axis('equal')\n",
    "\n",
    "Show_HistGraph_And_PieChart(dataList1)\n",
    "Show_HistGraph_And_PieChart(dataList2)\n",
    "Show_HistGraph_And_PieChart(dataList3)"
   ]
  },
  {
   "cell_type": "markdown",
   "metadata": {},
   "source": [
    "### TASK 2: EMOTION RECOGNITION FOR VIETNAMESE SOCIAL MEDIA TEXT"
   ]
  },
  {
   "cell_type": "markdown",
   "metadata": {},
   "source": [
    "#### 2.1 Read data from UIT-VSMEC"
   ]
  },
  {
   "cell_type": "code",
   "execution_count": 17,
   "metadata": {},
   "outputs": [],
   "source": [
    "# 5548\n",
    "dataTrainUIT = open_workbook(\"UIT-VSMEC/train_nor_811.xlsx\", encoding_override='latin')\n",
    "dataTrainUIT = pd.read_excel(dataTrainUIT)\n",
    "# 686\n",
    "dataValidUIT = open_workbook(\"UIT-VSMEC/valid_nor_811.xlsx\", encoding_override='latin')\n",
    "dataValidUIT = pd.read_excel(dataValidUIT)\n",
    "# 693\n",
    "data_TestUIT = open_workbook(\"UIT-VSMEC/test_nor_811.xlsx\", encoding_override='latin')\n",
    "data_TestUIT = pd.read_excel(data_TestUIT)\n",
    "\n",
    "# Model\n",
    "model = DecisionTreeClassifier()\n",
    "\n",
    "# Y\n",
    "trainY = dataTrainUIT.Emotion\n",
    "validY = dataValidUIT.Emotion\n",
    "testY  = data_TestUIT.Emotion"
   ]
  },
  {
   "cell_type": "markdown",
   "metadata": {},
   "source": [
    "#### 2.2 Text preprocess (stopword, word segmentation, learn vocabulary and idf)"
   ]
  },
  {
   "cell_type": "code",
   "execution_count": 18,
   "metadata": {},
   "outputs": [],
   "source": [
    "def text_process(datasets):\n",
    "    # Stopwords\n",
    "    StopWords = [\n",
    "        'chs','cerrrr','aaaaa','aaaaaaa','aamir','abcxyz','ac','18','200','500','dek','thg','đg','đs','đm','đuma',\n",
    "        'vl','vcl','kkk','dcm','cu','ừm','đĩ','đụ','địt','xl','lol','01','10','100', '11','12','13','14','15','150',\n",
    "        '17','1700''1967','20','21','22','225','23','24','25','26','28','2_','2_3','30','300','3000','320','333',\n",
    "        '33333','40','400','42','45','48', '50','5000','580','60','63','66','75','78','80','800','81','850','90','900',\n",
    "        '99','99999','_200','_5','ah','bn','c3','chg','cp','dòg','hlin','lòn','lôz','tđ','đkm','đkmm','đmaaaa','đmm',\n",
    "        'đmmmmm','đỹ','vcb','vclll','đụ_mẹ','trươ','trưen','amir','ga','1700','1967','bg','chaiii','clm','cmm','cmnl','cã',\n",
    "        'hloz','imdb','kau','kbh','loz','lozzz','lozzzz','matlon','muô','nh','nhma','p30','16','250','56','adm','ngươ'\n",
    "    ]\n",
    "    Tfidf = TfidfVectorizer(stop_words = StopWords)\n",
    "    \n",
    "    # Word Segmentation\n",
    "    WordSeg = []\n",
    "    for i in range(datasets.shape[0]):\n",
    "        sentence_strip = datasets.Sentence[i].strip() # Remove spaces at begin & end\n",
    "        WordSeg.append(word_tokenize(sentence_strip, format='text')) # format text: add \"_\" where text is phrases.\n",
    "    datasets.Sentence = WordSeg # Update new sentences\n",
    "    \n",
    "    # Learn vocabulary and idf.\n",
    "    X = Tfidf.fit_transform(datasets.Sentence)\n",
    "    # Display after processing\n",
    "    print(Tfidf.get_feature_names()); print(\"\\n\\n\")\n",
    "    # return document-term matrix after processing\n",
    "    return X\n",
    "\n"
   ]
  },
  {
   "cell_type": "markdown",
   "metadata": {},
   "source": [
    "#### 2.3 Using Train&Valid sets of UIT-VSMEC for training Emotion Recognition model"
   ]
  },
  {
   "cell_type": "code",
   "execution_count": 19,
   "metadata": {},
   "outputs": [
    {
     "name": "stdout",
     "output_type": "stream",
     "text": [
      "['2000', '2012', '2015', '2016', '2019', '2020', '2021', '_ban', '_khẩu', '_mai', '_mong', '_pháp', '_tiên', '_toàn', '_tế', '_ích_kỉ', 'aaaa', 'ad', 'add', 'adim', 'admin', 'ae', 'aeon', 'agri', 'agribank', 'ahahahaha', 'ahihi', 'ahuhu', 'ahuhuhu', 'ai', 'ai_dè', 'ai_ngờ', 'aiii', 'aiyo', 'ak', 'all', 'alo', 'am', 'am_hiểu', 'an', 'an_ninh', 'an_toàn', 'an_tâm', 'an_ủi', 'and', 'anh', 'anh_chị', 'anh_chị_em', 'anh_em', 'anh_hùng', 'anh_trai', 'anime', 'anw', 'app', 'au', 'aumobile', 'auto', 'ava', 'avatar', 'avenger', 'aw', 'awwww', 'axit', 'axít', 'ay', 'azz', 'ba', 'ba_má', 'ba_mẹ', 'babe', 'bai', 'balo', 'ban', 'ban_tặng', 'banh', 'banking', 'bankon', 'bao', 'bao_biện', 'bao_che', 'bao_cấp', 'bao_dai', 'bao_dung', 'bao_giờ', 'bao_lâu', 'bao_nhiêu', 'bao_tay', 'bao_xa', 'bar', 'bat', 'baton', 'bay', 'bb', 'bcs', 'be', 'bede', 'beep', 'ben', 'beng', 'best', 'bh', 'bi', 'bi_đát', 'bia', 'bieber', 'biet', 'bim', 'binh', 'bit', 'biê', 'biên', 'biên_chế', 'biến', 'biến_dạng', 'biến_thái', 'biến_động', 'biết', 'biết_bao', 'biết_bao_nhiêu', 'biết_chừng_nào', 'biết_mấy', 'biết_sao', 'biết_đâu', 'biết_ơn', 'biển', 'biểu_cảm', 'biện_pháp', 'biệt_tích', 'bjt', 'block', 'blood', 'bo', 'bome', 'bon', 'bon_chen', 'bong', 'bong_bóng', 'bonus', 'boom', 'boss', 'boxing', 'bro', 'bt', 'bth', 'bthg', 'buff', 'bung', 'buôn', 'buông', 'buồi', 'buồn', 'buồn_buồn', 'buồn_bực', 'buồn_cười', 'buồn_ngủ', 'buồn_nôn', 'buồn_tẻ', 'buồng_trứng', 'buổi', 'bà', 'bà_con', 'bài', 'bài_học', 'bài_tập', 'bàn', 'bàn_ghế', 'bàn_luận', 'bàn_tay', 'bàn_tay_trắng', 'bàn_thờ', 'bào', 'bày', 'bày_đặt', 'bá', 'bá_đạo', 'bác', 'bác_học', 'bác_sĩ', 'bái_phục', 'bám', 'bán', 'bán_lẻ', 'bán_lỗ', 'bánh', 'bánh_bèo', 'bánh_chưng', 'bánh_kem', 'bánh_kẹo', 'bánh_trung_thu', 'bánh_tráng', 'báo', 'báo_chí', 'báo_hiếu', 'báo_vụ', 'báo_đáp', 'báo_ứng', 'bát', 'bây', 'bây_chừ', 'bây_giờ', 'bây_giờ_đây', 'bã', 'bãi', 'bão', 'bè_phái', 'bé', 'bé_con', 'bé_nhỏ', 'béo', 'bép_xép', 'bét', 'bê', 'bên', 'bên_cạnh', 'bênh', 'bình', 'bình_an', 'bình_chánh', 'bình_dị', 'bình_luận', 'bình_phước', 'bình_phục', 'bình_quân', 'bình_thường', 'bình_tĩnh', 'bình_xịt', 'bình_yên', 'bí_mật', 'bí_quyết', 'bít', 'bò', 'bòn_bon', 'bó', 'bó_tay', 'bóc', 'bón', 'bóng', 'bóng_dáng', 'bóng_đá', 'bóp', 'bô', 'bôi', 'bông', 'bù', 'bùa', 'bùi', 'bùn', 'bùng', 'bùng_phát', 'bú', 'bún', 'bút', 'bă', 'băng', 'băng_băng', 'bđ', 'bơ', 'bơi', 'bơm', 'bư', 'bưng', 'bươ', 'bước', 'bước_tiến', 'bước_đầu', 'bướng', 'bưởi', 'bạch_tuyến', 'bạn', 'bạn_bè', 'bạo', 'bạo_lực', 'bạt_tai', 'bả', 'bản', 'bản_chất', 'bản_gốc', 'bản_lĩnh', 'bản_quyền', 'bản_sao', 'bản_thân', 'bản_địa', 'bảng', 'bảnh', 'bảo', 'bảo_bối', 'bảo_dân_trí', 'bảo_hiểm', 'bảo_kê', 'bảo_thủ', 'bảo_tàng', 'bảo_tồn', 'bảo_vệ', 'bảo_đảm', 'bảy', 'bấc', 'bấm', 'bất', 'bất_chấp', 'bất_công', 'bất_cần', 'bất_cẩn', 'bất_cứ', 'bất_dính', 'bất_hạnh', 'bất_hợp_tác', 'bất_kì', 'bất_lương', 'bất_lịch_sự', 'bất_lực', 'bất_nghờ', 'bất_ngờ', 'bất_nhân', 'bất_tiện', 'bất_động_sản', 'bất_ổn', 'bấy', 'bấy_nhiêu', 'bầm', 'bần_hàn', 'bầu', 'bầu_trời', 'bầy', 'bẩn', 'bẩn_thỉu', 'bận', 'bận_tâm', 'bập_bõm', 'bật', 'bậy', 'bắc', 'bắc_giang', 'bắn', 'bắp_tay', 'bắpppp', 'bắt', 'bắt_chuyện', 'bắt_chước', 'bắt_cái', 'bắt_cóc', 'bắt_gặp', 'bắt_nguồn', 'bắt_nạt', 'bắt_phạt', 'bắt_tay', 'bắt_đầu', 'bằg', 'bằng', 'bằng_chứng', 'bằng_cấp', 'bằng_lòng', 'bẹp', 'bẻ', 'bẻ_lái', 'bế', 'bếp', 'bếp_ga', 'bết', 'bề', 'bề_ngoài', 'bền_lâu', 'bền_vững', 'bều', 'bể', 'bể_dâu', 'bệnh', 'bệnh_hoạn', 'bệnh_nhân', 'bệnh_tật', 'bệnh_viện', 'bỉm', 'bỉu', 'bị', 'bị_thịt', 'bịa', 'bịa_đặt', 'bịch', 'bịp', 'bịt', 'bọ', 'bọ_chét', 'bọ_xít', 'bọn', 'bỏ', 'bỏ_cỏ', 'bỏ_lỡ', 'bỏ_mặc', 'bỏ_mẹ', 'bỏ_phí', 'bỏ_qua', 'bỏ_quên', 'bỏ_rơi', 'bỏ_tù', 'bỏ_túi', 'bố', 'bố_con', 'bố_láo', 'bố_mẹ', 'bố_đẻ', 'bốc', 'bốc_đồng', 'bốn', 'bống', 'bốp', 'bồ', 'bồi', 'bồi_thường', 'bổ', 'bổ_sung', 'bổg', 'bổn', 'bỗng', 'bỗng_nhiên', 'bộ', 'bộ_óc', 'bộ_đồ', 'bộ_đội', 'bộn', 'bột', 'bới', 'bớt', 'bờ', 'bờm', 'bởi', 'bởi_vì', 'bởi_vậy', 'bợt', 'bục', 'bụi', 'bụng', 'bụng_phệ', 'bụp', 'bụt', 'bức', 'bừa', 'bừa_bãi', 'bửa', 'bữa', 'bự', 'bựa', 'bực', 'bực_mình', 'ca', 'ca_sĩ', 'cafe', 'cai', 'call', 'cam', 'cam_lòng', 'camera', 'camry', 'can', 'canh', 'canh_bạc', 'canxi', 'cao', 'cao_cả', 'cao_cấp', 'cao_minh', 'cao_nguyên', 'cao_siêu', 'cao_su', 'cao_thế', 'cao_thủ', 'cao_đẹp', 'caooooo', 'cap', 'caphe', 'cast', 'cau', 'cay', 'cay_cú', 'cay_mắt', 'cay_nghiệt', 'cay_đắng', 'cdm', 'ce', 'cf', 'cgai', 'ch', 'cha', 'cha_mẹ', 'chai', 'chaii', 'chan', 'chanh', 'chau', 'chay', 'che', 'che_chở', 'che_kín', 'check', 'checkin', 'chen', 'chetme', 'chi', 'chi_là', 'chi_phí', 'chi_tiết', 'chi_tử', 'chia', 'chia_buồn', 'chia_chác', 'chia_ly', 'chia_phần', 'chia_sẻ', 'chia_tay', 'chia_đều', 'chim', 'chim_én', 'chim_ưng', 'chinh', 'chinh_chiến', 'chinh_phục', 'chiêc', 'chiêm_ngưỡng', 'chiên', 'chiêu', 'chiếc', 'chiếm', 'chiếm_đoạt', 'chiến_lược', 'chiến_tranh', 'chiến_trường', 'chiến_tích', 'chiến_đấu', 'chiếu', 'chiếu_phim', 'chiều', 'chiều_cao', 'chiện', 'chj', 'cho', 'cho_biết', 'cho_dù', 'cho_nên', 'chong_chóng', 'chowi', 'choáng', 'choét', 'choẹ', 'chu', 'chua', 'chua_cay', 'chua_loét', 'chua_lè', 'chua_ngọt', 'chuc', 'chui', 'chung', 'chung_quy', 'chuyên', 'chuyên_cơ', 'chuyên_gia', 'chuyên_môn', 'chuyên_mục', 'chuyên_nghiệp', 'chuyến', 'chuyển', 'chuyển_biến', 'chuyện', 'chuân', 'chuẩn', 'chuẩn_bị', 'chuối', 'chuồng', 'chuỗi', 'chuột', 'chuỵ', 'chyện', 'chà', 'chà_đạp', 'chàng', 'chào', 'chào_hỏi', 'chách', 'chán', 'chán_phèo', 'chán_đời', 'cháu', 'cháy', 'cháy_trụi', 'châm', 'chân', 'chân_chính', 'chân_chất', 'chân_kính', 'chân_mày', 'chân_tay', 'chân_thành', 'chân_thật', 'chân_thực', 'châu', 'châu_phi', 'chã', 'chèn', 'chém', 'chén', 'chép', 'chét', 'chê', 'chê_bai', 'chêu', 'chì_chiết', 'chìa_khoá', 'chìm', 'chí', 'chí_ít', 'chín', 'chính', 'chính_hiệu', 'chính_quyền', 'chính_sách', 'chính_trị_gia', 'chính_xác', 'chíp', 'chòi', 'chó', 'chó_đẻ', 'chóng_mặt', 'chóp_chép', 'chót_vót', 'chôm', 'chôn', 'chông', 'chùa', 'chùi', 'chùm', 'chú', 'chú_em', 'chú_rể', 'chú_ý', 'chúa', 'chúc', 'chúc_mừng', 'chúg', 'chúng', 'chúng_con', 'chúng_mày', 'chúng_mình', 'chúng_nó', 'chúng_ta', 'chúng_tôi', 'chút', 'chút_nữa', 'chăm', 'chăm_lo', 'chăm_làm', 'chăm_sóc', 'chăn', 'chăn_gối', 'chăn_nuôi', 'chăng', 'chăng_nữa', 'chơi', 'chơi_bời', 'chơi_chữ', 'chơi_khăm', 'chơi_ác', 'chư', 'chưa', 'chưng', 'chương', 'chưởng', 'chạ', 'chạm', 'chạnh_lòng', 'chạp', 'chạy', 'chạy_điện', 'chạy_đằng_trời', 'chả', 'chả_bù', 'chả_chó', 'chả_lẽ', 'chả_viên', 'chảnh', 'chảy', 'chấm', 'chấm_dứt', 'chấn_thương', 'chấp', 'chấp_hành', 'chấp_nhận', 'chất', 'chất_liệu', 'chất_lượng', 'chấy', 'chần_chừ', 'chậm', 'chậm_trễ', 'chập', 'chật', 'chậy', 'chắc', 'chắc_chắn', 'chắc_ăn', 'chắn', 'chắng', 'chắt', 'chẳn', 'chẳng', 'chẳng_hạn', 'chẳng_lẽ', 'chẳng_qua', 'chẳng_thể', 'chặn', 'chặn_đứng', 'chặt', 'chẹ', 'chẹp', 'chế', 'chế_tạo', 'chế_độ', 'chết', 'chết_cha', 'chết_mòn', 'chết_tươi', 'chết_đuối', 'chỉ', 'chỉ_huy', 'chỉ_đạo', 'chỉa', 'chỉnh', 'chỉnh_hình', 'chị', 'chị_em', 'chị_gái', 'chịu', 'chịu_khó', 'chịu_thua', 'chịu_đựng', 'chọc', 'chọc_tức', 'chọn', 'chọn_người', 'chọp', 'chốc', 'chốg', 'chối', 'chối_tai', 'chống', 'chống_gậy', 'chống_đối', 'chốt', 'chồi', 'chồn', 'chồng', 'chồng_chất', 'chổ', 'chổi', 'chổi_lông', 'chỗ', 'chộm', 'chột_dạ', 'chớ', 'chớ_bộ', 'chớm_nở', 'chớp', 'chớt', 'chờ', 'chờ_đợi', 'chời', 'chờiiiii', 'chở', 'chợ', 'chợ_đen', 'chợt', 'chục', 'chụp', 'chụy', 'chủ', 'chủ_lực', 'chủ_nhiệm', 'chủ_nhật', 'chủ_tịch', 'chủ_yếu', 'chủ_đề', 'chủ_động', 'chủng_tộc', 'chứ', 'chứ_sao', 'chứa', 'chứa_đựng', 'chức', 'chức_quyền', 'chứng', 'chứng_khoán', 'chứng_kiến', 'chứng_minh', 'chứng_tích', 'chứng_tỏ', 'chừa', 'chừng', 'chửa', 'chửi', 'chửi_bới', 'chửi_mắng', 'chửi_rủa', 'chữ', 'chữa', 'chữi', 'chững_chạc', 'cia', 'cigar', 'clone', 'cm', 'cmt', 'cmt8', 'cng', 'co', 'coffee', 'coi', 'coi_bộ', 'coi_chừng', 'coi_thường', 'combo', 'comt', 'con', 'con_buôn', 'con_bé', 'con_chuột', 'con_cháu', 'con_cái', 'con_ghẻ', 'con_gái', 'con_mẹ', 'con_mụ', 'con_người', 'con_nhỏ', 'con_nuôi', 'con_nít', 'con_rể', 'con_số', 'con_tim', 'con_trai', 'con_đĩ', 'con_đẻ', 'cong', 'content', 'cool', 'copy', 'couple', 'coá', 'cr', 'cr7', 'crazy', 'crush', 'cs', 'csgt', 'csong', 'ct', 'cta', 'ctay', 'cua', 'cug', 'cung', 'cung_cấp', 'cungz', 'cup', 'cute', 'cuô', 'cuối', 'cuối_cùng', 'cuốn', 'cuốn_đi', 'cuồng', 'cuồng_nhiệt', 'cuồng_si', 'cuộc', 'cuộc_chơi', 'cuộc_sống', 'cuộc_đời', 'cuộn', 'cv', 'cà', 'cà_khịa', 'cà_phê', 'cà_rốt', 'cài', 'càn', 'càng', 'càng_ngày_càng', 'cành', 'cào', 'càrôt', 'cày', 'cá', 'cá_chép', 'cá_nhân', 'cá_sấu', 'cá_tính', 'các', 'cách', 'cách_ly', 'cái', 'cám_ơn', 'cán', 'cán_bộ', 'cánh', 'cánh_tay', 'cáo', 'cát', 'cáu', 'câ', 'câm_họng', 'câm_mồm', 'cân', 'cân_bằng', 'cân_treo', 'câng_câng', 'câu', 'câu_chuyện', 'câu_hát', 'cây', 'cây_bông', 'cây_cối', 'cây_nhang', 'cây_thế', 'cãi', 'cãi_lộn', 'céc', 'cíu', 'còm', 'còn', 'có', 'có_hạn', 'có_hậu', 'có_khi', 'có_lẽ', 'có_mặt', 'có_thể', 'có_vẻ', 'có_ích', 'có_điều', 'cóc', 'cóng', 'cô', 'cô_chú', 'cô_dâu', 'cô_giáo', 'cô_hồn', 'cô_đơn', 'công', 'công_an', 'công_bằng', 'công_bố', 'công_chúa', 'công_chúng', 'công_cốc', 'công_cộng', 'công_khai', 'công_lao', 'công_nghiệp', 'công_nghệ', 'công_nhân', 'công_nhận', 'công_sở', 'công_sức', 'công_thức', 'công_trình', 'công_ty', 'công_tác', 'công_viên', 'công_việc', 'công_vụ', 'công_ích', 'công_ăn_việc_làm', 'công_ơn', 'cõi', 'cõi_lòng', 'cõng', 'cùi', 'cùng', 'cùng_cực', 'cùng_với', 'cú', 'cúi', 'cún', 'cúng', 'cúp', 'cút', 'căm', 'căm_thù', 'căn', 'căn_bản', 'căng', 'căng_thẳng', 'cđ', 'cđcm', 'cđv', 'cũ', 'cũg', 'cũn', 'cũng', 'cũnh', 'cơ', 'cơ_bản', 'cơ_bắp', 'cơ_chế', 'cơ_chứ', 'cơ_cực', 'cơ_hội', 'cơ_mà', 'cơ_ngơi', 'cơ_nhỡ', 'cơ_quan', 'cơ_quan_chức_năng', 'cơ_sở', 'cơ_thể', 'cơ_tim', 'cơ_à', 'cơm', 'cơm_bữa', 'cơm_dẻo', 'cơm_tấm', 'cơm_điện', 'cơn', 'cư', 'cư_dân', 'cư_xử', 'cưa', 'cưng', 'cương_quyết', 'cưới', 'cướp', 'cườ', 'cười', 'cười_mỉm', 'cười_sặc', 'cười_sặc_sụa', 'cường_lực', 'cường_quốc', 'cưỡng_hôn', 'cạ', 'cạch', 'cại', 'cạm_bẫy', 'cạn', 'cạnh', 'cạnh_tranh', 'cạo', 'cạo_trọc', 'cạp', 'cả', 'cả_thể', 'cải', 'cải_tạo', 'cảm', 'cảm_giác', 'cảm_nhận', 'cảm_nắng', 'cảm_thông', 'cảm_thấy', 'cảm_tình', 'cảm_xúc', 'cảm_động', 'cảm_động_lòng', 'cảm_ơn', 'cản', 'cản_bước', 'cảnh', 'cảnh_báo', 'cảnh_cáo', 'cảnh_ngộ', 'cảnh_sát', 'cảnh_tỉnh', 'cảnh_vật', 'cấm', 'cấp', 'cấp_độ', 'cất', 'cấy', 'cầm', 'cầm_ca', 'cần', 'cầu', 'cầu_giấy', 'cầu_hôn', 'cầu_kì', 'cầu_mong', 'cầu_thang', 'cẩm', 'cẩn_thận', 'cẩn_trọng', 'cẩng', 'cẩu', 'cận', 'cận_cảnh', 'cập_nhật', 'cật_lực', 'cậu', 'cậy', 'cắm', 'cắm_sừng', 'cắn', 'cắp', 'cắt', 'cặc', 'cặn_bã', 'cặp', 'cọ', 'cọng', 'cỏ', 'cố', 'cố_chấp', 'cố_gắng', 'cố_tình', 'cốc', 'cống', 'cống_hiến', 'cốt_lõi', 'cồn', 'cồng', 'cổ', 'cổ_chân', 'cổ_họng', 'cổ_hủ', 'cổ_nhân', 'cổ_phần', 'cổ_tích', 'cổ_tức', 'cổ_động_viên', 'cổng', 'cộng', 'cột', 'cột_điện', 'cớ', 'cớ_sao', 'cờ', 'cở', 'cởi', 'cỡ', 'cụ', 'cục', 'cục_súc', 'cụt', 'cụt_tay', 'củ', 'của', 'của_cải', 'củi', 'củng', 'cứ', 'cức', 'cứng', 'cứng_cỏi', 'cứt', 'cứt_trâu', 'cứu', 'cứu_vớt', 'cừi', 'cừng', 'cừu', 'cử', 'cử_chỉ', 'cửa', 'cửa_hàng', 'cửa_mở', 'cửa_sổ', 'cự', 'cự_li', 'cực', 'cực_khổ', 'cực_kì', 'cực_kỳ', 'cực_mạnh', 'cực_phẩm', 'da', 'da_gà', 'dai', 'daklak', 'damage', 'dame', 'dang', 'dang_dở', 'danh', 'danh_dự', 'danh_hài', 'danh_ngôn', 'danh_tính', 'dao', 'dao_rạch', 'dap', 'dautay', 'day', 'de', 'deep', 'del', 'dell', 'dg', 'dhs', 'di', 'di_sản', 'dinh', 'disme', 'disss', 'diê', 'diển_viên', 'diễm', 'diễn', 'diễn_tả', 'diễn_viên', 'diễn_xuất', 'diệp', 'diệt', 'diệu_kì', 'dkm', 'dlm', 'dm', 'dma', 'dme', 'do', 'doctor', 'doi', 'double', 'douma', 'doume', 'doạ', 'drama', 'ds', 'dt', 'dth', 'du', 'du_lịch', 'dume', 'dumehuhonchimen', 'dung', 'dung_nhan', 'duoc', 'duy_nhất', 'duyên', 'duyên_dáng', 'duyệt', 'duới', 'dv', 'dzầy', 'dzẩn', 'dzậy', 'dzớ', 'dài', 'dài_dài', 'dàn', 'dàn_hàng', 'dành', 'dày', 'dái', 'dám', 'dán', 'dáng', 'dâm', 'dâm_tà', 'dâm_ô', 'dân', 'dân_trí', 'dân_tộc', 'dân_đen', 'dâng', 'dâu', 'dâu_trăm_họ', 'dâu_tằm', 'dây', 'dây_chằng', 'dây_điện', 'dã', 'dã_man', 'dè', 'dép', 'dê', 'dì', 'dìm', 'dình', 'dí', 'dính', 'dòi', 'dòm', 'dòng', 'dòng_chảy', 'dòng_họ', 'dô', 'dõ', 'dù', 'dù_sao', 'dùm', 'dùng', 'dăm', 'dăm_ba', 'dăm_bảy', 'dĩa', 'dũng_cảm', 'dơ', 'dơ_bẩn', 'dơ_dáy', 'dư', 'dư_thừa', 'dưa', 'dưa_gang', 'dưa_hấu', 'dưng', 'dương', 'dưới', 'dưỡng', 'dược', 'dượng', 'dạ', 'dại', 'dạng', 'dạo', 'dạy', 'dạy_dỗ', 'dạyyyy', 'dải', 'dấu', 'dấu_ấn', 'dầm', 'dần', 'dần_dần', 'dầu', 'dầu_hôi', 'dầu_hỏa', 'dầu_lửa', 'dầu_ăn', 'dầy', 'dẫn', 'dẫn_dắt', 'dẫu', 'dập', 'dậy', 'dắm', 'dắt', 'dắt_mũi', 'dẳn', 'dặn', 'dẹp', 'dẻo', 'dẽ', 'dể', 'dễ', 'dễ_dàng', 'dễ_dãi', 'dễ_sợ', 'dễ_thương', 'dị', 'dị_nghị', 'dị_đoan', 'dị_ứng', 'dịch', 'dịch_vụ', 'dịp', 'dịu_dàng', 'dọa', 'dọc', 'dọn', 'dọn_dẹp', 'dọn_sạch', 'dốc', 'dối', 'dối_trá', 'dống', 'dốt', 'dồi', 'dỗ', 'dỗ_dành', 'dỗi', 'dội', 'dội_ngược', 'dột', 'dở', 'dở_hơi', 'dở_người', 'dụ', 'dụ_dỗ', 'dục', 'dụg', 'dụi', 'dụng', 'dụng_cụ', 'dụng_võ', 'dứt_khoát', 'dừa', 'dừng', 'dữ', 'dữ_dội', 'dự', 'dự_án', 'dự_định', 'dựa', 'dựng', 'dựt', 'edit', 'ekip', 'em', 'em_gái', 'em_trai', 'eo', 'eo_ôi', 'euro', 'every', 'everywhere', 'evn', 'ewww', 'ex', 'excited', 'ez', 'fa', 'facebook', 'fail', 'fake', 'family', 'fan', 'feed', 'fine', 'fire', 'first', 'follow', 'fr', 'free', 'fucklong', 'full', 'fải', 'g7', 'gai', 'gai_ốc', 'galang', 'game', 'gan', 'gan_dạ', 'gane', 'gap', 'gas', 'gato', 'gay', 'gd', 'gdinh', 'gg', 'gg_tra', 'ghe', 'ghen', 'ghen_ăn', 'gheê', 'ghi', 'ghi_chú', 'ghim', 'ghiền', 'ghé', 'ghép', 'ghét', 'ghê', 'ghê_gớm', 'ghê_răng', 'ghê_tởm', 'ghêeeee', 'ghẹo', 'ghẻ', 'ghế', 'ghệ', 'gia', 'gia_công_sản_xuất', 'gia_cầm', 'gia_nhập_hội', 'gia_phả', 'gia_súc', 'gia_sư', 'gia_trưởng', 'gia_vị', 'gia_đình', 'giai_điệu', 'gian', 'giang', 'giang_hồ', 'giao', 'giao_lưu', 'giao_phối', 'giao_thông', 'giao_tiếp', 'giay', 'gieo', 'gio', 'giu', 'giun', 'giun_đất', 'già', 'già_mồm', 'giành', 'giàu', 'giàu_có', 'giày', 'giá', 'giá_cả', 'giá_mua', 'giá_trị', 'giám', 'giám_ho', 'giám_khảo', 'giám_đốc', 'gián', 'gián_tiếp', 'giáo', 'giáo_dưỡng', 'giáo_dục', 'giáo_sư', 'giáo_trình', 'giáo_viên', 'giáp', 'giâ', 'giây', 'giây_phút', 'giã', 'giãy_nảy', 'giòi', 'giòn', 'gió', 'gió_mùa', 'gióng', 'giông', 'giông_bão', 'giùm', 'giúp', 'giúp_việc', 'giúp_ích', 'giúp_đỡ', 'giăt', 'giơ', 'giường', 'giả', 'giả_bộ', 'giả_dối', 'giả_sử', 'giả_vờ', 'giải', 'giải_lao', 'giải_pháp', 'giải_phóng', 'giải_quyết', 'giải_thích', 'giải_trí', 'giải_tán', 'giảm', 'giảm_giá', 'giản_dị', 'giảng', 'giấc', 'giấu', 'giấy', 'giấy_tờ', 'giầy', 'giận', 'giận_dỗi', 'giật', 'giật_gân', 'giật_mình', 'giật_nảy', 'giằng_xé', 'giặt', 'giẻ_lau', 'giếng', 'giết', 'giềng', 'giọng', 'giỏi', 'giốg', 'giống', 'giỗ', 'giớ', 'giới', 'giới_tính', 'giờ', 'giờ_đây', 'giời', 'giở_trò', 'giỡn', 'giục', 'giữ', 'giữa', 'good', 'goodbye', 'grab', 'group', 'gu', 'guitar', 'guru', 'gv', 'gvcn', 'gvien', 'gym', 'gà', 'gào', 'gào_thét', 'gái', 'gái_già', 'gánh', 'gáo', 'gáy', 'gây', 'gã', 'gãi', 'gãy', 'géc', 'gét', 'gê', 'gì', 'gìn_giữ', 'gía', 'gío', 'gò', 'góc', 'góp', 'góp_phần', 'gõ', 'gù', 'gă', 'găng_tay', 'găp', 'gơ', 'gơm', 'gươm', 'gương', 'gạ', 'gạch', 'gạo', 'gạt', 'gạt_tàn', 'gấp', 'gấp_bội', 'gấu', 'gấu_trúc', 'gần', 'gầy', 'gẫy', 'gập', 'gật', 'gậy', 'gắn', 'gắn_bó', 'gắng', 'gắp', 'gắt', 'gắt_gỏng', 'gặm', 'gặp', 'gặp_mặt', 'gặt', 'gọi', 'gọi_là', 'gọn', 'gọn_gàng', 'gốc', 'gối', 'gồng', 'gỗ', 'gội', 'gớm', 'gờ', 'gởi', 'gỡ', 'gục', 'gửi', 'h45', 'ha', 'haa', 'haaa', 'haaaaa', 'hack', 'haha', 'hahaa', 'hahaaa', 'hahaaaa', 'hahah', 'hahaha', 'hahahah', 'hahahaha', 'hahhaa', 'hahhahah', 'hai', 'haiz', 'haizaaa', 'haizx', 'haizz', 'haizzz', 'haizzzz', 'halo', 'ham', 'ham_hố', 'hana', 'hao', 'hao_mòn', 'hay', 'hay_ho', 'hay_là', 'hay_sao', 'haz', 'hc', 'he', 'hee', 'heee', 'hehe', 'hehee', 'heheh', 'hello', 'helo', 'hem', 'hen', 'heo', 'het', 'hhaahhaah', 'hhhhhhhhhhhhhhhhhhhhhhh', 'hi', 'hi_vọng', 'hic', 'hicc', 'hiccc', 'hihee', 'hihi', 'hihihi', 'hihii', 'hiu_hiu', 'hiuhiu', 'hix', 'hiê', 'hiên_ngang', 'hiếm', 'hiếm_hoi', 'hiếmkkk', 'hiến', 'hiếp_dâm', 'hiếu', 'hiếu_thảo', 'hiền', 'hiền_lành', 'hiền_mai', 'hiền_thục', 'hiển', 'hiểu', 'hiện', 'hiện_giờ', 'hiện_nay', 'hiện_nguyên_hình', 'hiện_tượng', 'hiện_tại', 'hiện_đại', 'hiệp', 'hiệu_nghiệm', 'hiệu_quả', 'hiệu_trưởng', 'hj', 'hjhj', 'hjjjj', 'hjxhjx', 'hk', 'hlv', 'hmm', 'hmmmmmmm', 'hnao', 'hnua', 'ho', 'hoa', 'hoa_chúc', 'hoa_nhài', 'hoa_sữa', 'hoan', 'hoan_hô', 'hoan_hỉ', 'hoang', 'hoang_mang', 'hoang_tưởng', 'hoang_đường', 'hoc', 'hoi', 'honda', 'honey', 'hongkong1', 'hop', 'hot', 'hotel', 'hoy', 'hoà', 'hoà_thuận', 'hoài', 'hoài_niệm', 'hoàn', 'hoàn_chỉnh', 'hoàn_cảnh', 'hoàn_hảo', 'hoàn_mĩ', 'hoàn_thiện', 'hoàn_thành', 'hoàn_toàn', 'hoàng', 'hoàng_hôn', 'hoàng_thượng', 'hoành_tráng', 'hoá', 'hoá_ra', 'hoạ', 'hoạng', 'hoạt_hình', 'hoả', 'hoảng', 'hoặc', 'hp', 'hqua', 'hs', 'hu', 'hu_hu', 'huawei', 'huhu', 'huhuhu', 'huhuu', 'hun', 'hung', 'hung_khí', 'hung_ác', 'husky', 'huy', 'huy_hoàng', 'huynh_đệ', 'huyền_thoại', 'huyện', 'huế', 'huề', 'huống_gì', 'huỷ_hoại', 'hy', 'hy_vọng', 'hà', 'hà_nội', 'hàg', 'hài', 'hài_hước', 'hài_lòng', 'hàm', 'hàm_răng', 'hàn', 'hàn_gắn', 'hàng', 'hàng_không', 'hàng_loạt', 'hàng_rào', 'hàng_xóm', 'hành', 'hành_chính', 'hành_hung', 'hành_hạ', 'hành_lang', 'hành_lý', 'hành_nghề', 'hành_tinh', 'hành_vi', 'hành_văn', 'hành_xác', 'hành_xử', 'hành_động', 'há_mồm', 'hách', 'hách_dịch', 'hám', 'háng', 'hát', 'hát_văn_nghệ', 'hâha', 'hâhah', 'hâhhah', 'hâhhahhahahahaha', 'hâm_hâm', 'hâm_mộ', 'hã', 'hãi', 'hãm', 'hãng', 'hãy', 'hè', 'hèm', 'hèn', 'hén', 'héo', 'héo_queo', 'hét', 'hê', 'hên', 'hên_xui', 'hêt', 'hêtd', 'hì', 'hì_hì', 'hình', 'hình_bóng', 'hình_dong', 'hình_dạng', 'hình_hài', 'hình_học', 'hình_như', 'hình_phạt', 'hình_sự', 'hình_thức', 'hình_tượng', 'hình_vẽ', 'hình_ảnh', 'hí', 'hí_hí', 'hí_hửng', 'híc', 'híccc', 'hít', 'hò', 'hò_hét', 'hòa', 'hòa_bình', 'hòa_giải', 'hòa_phú', 'hòa_đẹp', 'hòi', 'hòm', 'hòng', 'hó', 'hó_hé', 'hóa', 'hóa_học', 'hóa_ra', 'hóa_điên', 'hói', 'hóng', 'hóng_mát', 'hót', 'hô_hào', 'hôi', 'hôm', 'hôm_nay', 'hôm_qua', 'hôn', 'hông', 'hù', 'hùa', 'hùm', 'hú', 'hú_hồn', 'húp', 'hút', 'hút_bụi', 'hăm_hở', 'hũ', 'hơi', 'hơm', 'hơn', 'hư', 'hư_cấu', 'hư_hỏng', 'hư_đốn', 'hương', 'hương_vị', 'hươu', 'hướng_dẫn', 'hướng_nội', 'hường', 'hưởng', 'hưởng_thụ', 'hạ', 'hạ_cánh', 'hại', 'hạn', 'hạn_hẹp', 'hạnh_phúc', 'hạp', 'hạt', 'hả', 'hả_dạ', 'hả_hê', 'hải_phòng', 'hải_sản', 'hấp_dẫn', 'hấp_thụ', 'hất', 'hầu', 'hầu_hết', 'hầu_như', 'hẩy', 'hận', 'hận_thù', 'hậu', 'hậu_quả', 'hắn', 'hắt', 'hắt_xì', 'hằng', 'hẳn', 'hẳn_hoi', 'hẹn', 'hẹn_hò', 'hẻm', 'hết', 'hết_hơi', 'hết_hồn', 'hết_mình', 'hết_sảy', 'hết_sức', 'hết_xẩy', 'hề', 'hềy', 'hễ', 'hệ', 'hệ_thống', 'hệt', 'hỉ', 'hỉu', 'hịn', 'hịt', 'hịu', 'họ', 'họ_hàng', 'họa', 'học', 'học_bổng', 'học_giả', 'học_hành', 'học_hỏi', 'học_sinh', 'học_sinh_cơ', 'học_trò', 'học_tập', 'họng', 'họp', 'hỏ', 'hỏa', 'hỏg', 'hỏi', 'hỏi_han', 'hỏng', 'hố', 'hố_xí', 'hốc', 'hối_hận', 'hối_tiếc', 'hốt', 'hồ', 'hồ_sơ', 'hồ_tiêu', 'hồi', 'hồi_hộp', 'hồi_xuân', 'hồn', 'hồn_nhiên', 'hồng', 'hổ', 'hổng', 'hộ', 'hội', 'hội_đồng', 'hộp', 'hột', 'hờ_hờ', 'hờn', 'hờn_dỗi', 'hở', 'hỡi', 'hợp', 'hợp_lí', 'hợp_lý', 'hợp_tác', 'hụt_chân', 'hủ', 'hủy', 'hủy_hoại', 'hứ', 'hứa', 'hức', 'hứng', 'hứng_thú', 'ib', 'icon', 'idiots', 'idol', 'iemm', 'im', 'im_lặng', 'immm', 'in', 'incheon', 'incon', 'inh_ỏi', 'input', 'inter', 'internet', 'ipx', 'iq', 'is', 'iêu', 'jin', 'ju', 'justin', 'ka', 'kaka', 'kakaa', 'kakak', 'kakaka', 'kara', 'karaok', 'karaoke', 'kem', 'keo', 'kg', 'kha', 'kha_khá', 'khac', 'khai_giảng', 'khai_phá', 'khai_sinh', 'khan', 'khao_khát', 'khen', 'khi', 'khinh', 'khinh_bỉ', 'khinh_thường', 'khiến', 'khiếp', 'khiếu', 'khiếu_nại', 'khiển_trách', 'kho', 'khoa', 'khoa_học', 'khoan_dung', 'khoanh', 'khoe', 'khoe_khoang', 'khoá', 'khoác_lác', 'khoái', 'khoé_mắt', 'khoản', 'khoảng', 'khoảnh_khắc', 'khoẻ', 'khu', 'khu_phố', 'khu_vực', 'khung', 'khung_cảnh', 'khung_hình_phạt', 'khuya', 'khuyên', 'khuyến_cáo', 'khuyến_mại', 'khuyết_điểm', 'khuôn', 'khuôn_mặt', 'khuất', 'khà_khà', 'khá', 'khá_giả', 'khác', 'khách', 'khách_hàng', 'khách_sạn', 'khái_niệm', 'khám', 'khám_phá', 'khát_nước', 'khát_vọng', 'khâm_phục', 'khéo', 'khép', 'khép_nép', 'khét', 'khét_lẹt', 'khênh', 'khì', 'khí', 'khí_chất', 'khí_hậu', 'khía', 'khía_cạnh', 'khích', 'khích_lệ', 'khó', 'khó_chịu', 'khó_khăn', 'khó_tính', 'khóa', 'khóc', 'khóc_lóc', 'khóc_thét', 'khóe', 'khói', 'khô', 'khôg', 'khôi_phục', 'khôn', 'khôn_lớn', 'khôn_ngoan', 'không', 'không_bù', 'không_chừng', 'không_gian', 'không_khéo', 'không_khí', 'không_lẽ', 'không_những', 'không_thể', 'không_thể_nào', 'không_tập', 'khùng', 'khúc', 'khả_năng', 'khấc', 'khấn_vái', 'khẩn_cấp', 'khẩu', 'khẩu_trang', 'khập_khiễng', 'khắc_nghiệt', 'khắc_phục', 'khắm', 'khắn', 'khắp', 'khẳng_định', 'khẽ', 'khế', 'khỉ', 'khỏe', 'khỏe_mạnh', 'khỏi', 'khốn', 'khốn_kiếp', 'khốn_nạn', 'khổ', 'khổ_sai', 'khổ_thân', 'khổ_tâm', 'khớp', 'khởi', 'khởi_nghiệp', 'khởi_tố', 'khởi_động', 'khủng', 'khủng_khiếp', 'khựa', 'ki', 'kia', 'kia_kìa', 'kiem', 'kill', 'kim', 'kim_tuyến', 'king', 'kinh', 'kinh_doanh', 'kinh_dị', 'kinh_hồn', 'kinh_khủng', 'kinh_khủng_khiếp', 'kinh_nghiệm', 'kinh_ngạc', 'kinh_phí', 'kinh_tế', 'kinh_tởm', 'kinh_điển', 'kinhh', 'kip', 'kiê', 'kiên_trì', 'kiêng_nể', 'kiếm', 'kiến', 'kiến_lửa', 'kiến_thức', 'kiến_vàng', 'kiến_đen', 'kiến_đỏ', 'kiếp', 'kiếp_người', 'kiềm', 'kiềm_chế', 'kiều', 'kiểm_kê', 'kiểm_soát', 'kiểm_toán', 'kiểm_tra', 'kiểm_điểm', 'kiểu', 'kiệm', 'kiện', 'kiện_tụng', 'kiệt', 'kk', 'kkkk', 'kkkkk', 'kkkkklk', 'klq', 'km', 'ko', 'kp', 'kphai', 'kq', 'ks', 'kv', 'kèm', 'kèo', 'kém', 'kén_chọn', 'kéo', 'kéo_theo', 'kê', 'kênh', 'kêu', 'kêu_ca', 'kêu_trời', 'kì', 'kì_cục', 'kì_lạ', 'kì_quặc', 'kì_thi', 'kì_thị', 'kì_vọng', 'kìa', 'kìm_nén', 'kí', 'kí_ức', 'kích_thích', 'kím', 'kín', 'kính', 'kô', 'ký_túc_xá', 'kĩ', 'kĩ_lưỡng', 'kĩ_thuật', 'kẹo', 'kẹp', 'kẻ', 'kẻ_thù', 'kẻ_ô', 'kẻo', 'kế', 'kếch_xù', 'kết', 'kết_bạn', 'kết_hôn', 'kết_hợp', 'kết_luận', 'kết_quả', 'kết_thúc', 'kề', 'kền', 'kể', 'kể_cả', 'kệ', 'kỉ', 'kỉ_lục', 'kỉ_niệm', 'kỉ_yếu', 'kỉu', 'kịch', 'kịch_bản', 'kịch_liệt', 'kịch_tính', 'kịp', 'kịp_thời', 'kỳ', 'kỳ_lạ', 'kỳ_quan', 'kỷ', 'kỷ_luật', 'kỷ_lục', 'kỷ_nguyên', 'kỷ_niệm', 'kỹ_sư', 'kỹ_thuật', 'la', 'la_hét', 'la_liếm', 'la_làng', 'la_mắng', 'lag', 'lai', 'lam', 'lan', 'lan_can', 'lang_thang', 'lanh', 'lao', 'lao_công', 'lao_động', 'lap', 'laptop', 'lau', 'le', 'le_lói', 'lead', 'leo', 'level', 'li', 'li_hôn', 'li_kì', 'lia_lịa', 'liang', 'lien', 'linh_hồn', 'linh_tinh', 'link', 'lip', 'list', 'live', 'liêm_sỉ', 'liên_hệ', 'liên_lạc', 'liên_quan', 'liên_tưởng', 'liên_tục', 'liên_đoàn', 'liếc', 'liết', 'liền', 'liều_lĩnh', 'liệt', 'liệt_kê', 'liệu', 'lm', 'lo', 'lo_lắng', 'lo_nghĩ', 'loa', 'loai', 'loan', 'loat', 'loc', 'logic', 'loi_choi', 'lom_dom', 'lon', 'long', 'loài', 'loài_người', 'loại', 'loạn', 'loạn_luân', 'lsao', 'lu', 'lu_mờ', 'lui', 'lun', 'lung_lay', 'lung_tung', 'luon', 'luyến', 'luyến_tiếc', 'luyện', 'luôn', 'luôn_luôn', 'luônnn', 'luật', 'luật_hình_sự', 'luộc', 'ly', 'ly_hôn', 'lz', 'là', 'làm', 'làm_biếng', 'làm_bạn', 'làm_chủ', 'làm_giàu', 'làm_gì', 'làm_gương', 'làm_khó', 'làm_khổ', 'làm_loạn', 'làm_màu', 'làm_mướn', 'làm_nên', 'làm_phiền', 'làm_sao', 'làm_thuê', 'làm_trai', 'làm_trò', 'làm_tổ', 'làm_việc', 'làm_ăn', 'làm_đau', 'làm_đĩ', 'làm_ẩu', 'làn', 'làng', 'lành', 'lành_lặn', 'lào', 'lày', 'lá', 'lách', 'lái', 'lái_xe', 'lám', 'láng', 'láo', 'láo_toét', 'láp', 'lát', 'lâm', 'lân', 'lâu', 'lâu_dài', 'lâu_lâu', 'lâu_lâu_lâu', 'lâu_lắc', 'lây', 'lãi', 'lãng_mạn', 'lãnh', 'lãnh_đạo', 'lão', 'lè_lè', 'lém', 'lén', 'lén_lút', 'léo_nhéo', 'lê', 'lên', 'lên_cơn', 'lên_án', 'lênnnnn', 'lêu_lêu', 'lì', 'lì_xì', 'lìn', 'lí', 'lí_do', 'lít', 'lò', 'lò_xo', 'lòa', 'lòi', 'lòng', 'lòng_dạ', 'lòng_tham', 'lòng_đường', 'lònnnnnnn', 'ló', 'lóc', 'lót', 'lô', 'lôi', 'lông', 'lông_mũi', 'lõi', 'lõi_đời', 'lù', 'lùa', 'lùi', 'lùm', 'lùn', 'lùn_lùn', 'lú', 'lúa', 'lúc', 'lúc_nào', 'lún', 'lúng', 'lý', 'lý_do', 'lă', 'lăn', 'lăng', 'lăng_loàn', 'lăng_mạ', 'lĩnh_vực', 'lũ', 'lơ', 'lơ_lửng', 'lơn', 'lưng', 'lưu', 'lưu_luyến', 'lưu_lạc', 'lưu_manh', 'lưu_ý', 'lươn_lẹo', 'lương', 'lương_tâm', 'lướt', 'lười', 'lười_biếng', 'lườm', 'lượn', 'lượt', 'lạ', 'lạ_kì_thật', 'lạ_lùng', 'lạ_lẫm', 'lạ_mắt', 'lạc', 'lạc_hậu', 'lạc_lõng', 'lạc_quan', 'lại', 'lạm_dụng', 'lạng', 'lạng_lách', 'lạnh', 'lạnh_giá', 'lạnh_lùng', 'lạp_xưởng', 'lạy', 'lả', 'lấp', 'lấy', 'lầm', 'lầm_lì', 'lần', 'lầy', 'lẩu', 'lẫn', 'lẫn_lộn', 'lập', 'lập_luận', 'lật', 'lật_mặt', 'lậy', 'lắc', 'lắc_đầu', 'lắm', 'lắm_chuyện', 'lắng', 'lắng_nghe', 'lắp', 'lằm', 'lằn', 'lẳng_lơ', 'lặng_im', 'lặp', 'lẹ', 'lẻ', 'lẽ', 'lết', 'lếuuuuuu', 'lễ', 'lệ', 'lệch', 'lệnh', 'lịch', 'lịch_sử', 'lịch_sự', 'lọ', 'lọt', 'lọt_tai', 'lỏn', 'lỏng_lẻo', 'lố', 'lố_lăng', 'lối', 'lốn', 'lốp', 'lồ', 'lồi_lõm', 'lồn', 'lồng', 'lồng_lộn', 'lồng_lộng', 'lồng_tiếng', 'lồng_đèn', 'lổi', 'lỗ', 'lỗ_tai', 'lỗ_đít', 'lỗi', 'lỗi_đạo_cụ', 'lộ', 'lộc', 'lội', 'lộn', 'lộn_ruột', 'lộn_xộn', 'lộng_hành', 'lộng_lẫy', 'lớ', 'lớ_ngớ', 'lớn', 'lớn_tuổi', 'lớp', 'lớp_áo', 'lờ', 'lờ_đờ', 'lời', 'lời_chúc', 'lời_nói', 'lời_nói_dối', 'lở', 'lỡ', 'lợi', 'lợi_dụng', 'lợi_hại', 'lợi_nhuận', 'lợi_ích', 'lợn', 'lợp', 'lục_đục', 'lụm', 'lủng', 'lứa', 'lừa', 'lừa_dối', 'lừa_gạt', 'lừa_đảo', 'lửa', 'lựa', 'lựa_chọn', 'lực', 'lực_học', 'm87', 'ma', 'ma_', 'ma_nghĩ', 'ma_nữ', 'ma_quỷ', 'ma_sơ', 'mag', 'mai', 'mai_mốt', 'mai_sau', 'maii', 'main', 'maiz', 'make', 'mall', 'man', 'mang', 'mang_danh', 'mang_tiếng', 'manga', 'mario', 'marketing', 'masage', 'mat', 'mau', 'max', 'may', 'may_mà', 'may_mắn', 'me', 'mem', 'men', 'meo_meo', 'mer', 'mi', 'mik', 'minh', 'minh_chứng', 'mini', 'mink', 'minvolum', 'miss', 'miutokool', 'miê', 'miên', 'miên_man', 'miến', 'miếng', 'miết', 'miền', 'miễn_là', 'miễn_phí', 'miễn_sao', 'miệng', 'miệng_thế', 'miệt_thị', 'mj', 'ml', 'mlz', 'mng', 'mo', 'mobile', 'moi', 'moiij', 'mong', 'mong_manh', 'mong_muốn', 'mood', 'moá', 'moẹ', 'mr', 'mu', 'mua', 'mua_bán', 'mua_chuộc', 'mua_cái', 'mua_sắm', 'mua_vui', 'mum', 'mun', 'muôn', 'muôn_kiếp', 'muôn_vàn', 'muôn_đời', 'muối', 'muốn', 'muỗi', 'muỗng', 'muộn', 'mv', 'mxh', 'my', 'mà', 'mà_còn', 'màaaa', 'màn', 'màn_hình', 'màt', 'màu', 'màu_mè', 'mày', 'mày_hoa', 'mày_tao', 'má', 'mác', 'mách_lẻo', 'mái', 'mát', 'mát_lòng', 'máu', 'máu_lửa', 'máu_me', 'máy', 'máy_chém', 'máy_nghe', 'máy_tính', 'máy_xay', 'mâ', 'mâm', 'mâu', 'mây', 'mã', 'mãi', 'mãi_mãi', 'mãn_nguyện', 'mèo', 'mé', 'mém', 'méo', 'mép', 'mét', 'mê', 'mê_tín', 'mì', 'mìh', 'mình', 'mí', 'mít_ướt', 'mò', 'mòa', 'mòn', 'móa', 'móc', 'móc_túi', 'móe', 'món', 'móng', 'mót', 'mô', 'mô_tả', 'môi', 'môi_trường', 'môn', 'mông', 'mõi', 'mõm', 'mõm_chó', 'mù', 'mù_quáng', 'mùa', 'mùi', 'múa', 'múc', 'múi', 'mún', 'mút', 'mă', 'măc', 'mũ', 'mũ_bảo_hiểm', 'mũi', 'mũi_tiêm', 'mũm_mĩm', 'mơ', 'mơ_mộng', 'mơ_ước', 'mưa', 'mưa_gió', 'mưu_cầu', 'mưu_mô', 'mưu_sinh', 'mười', 'mượn', 'mượt', 'mạ', 'mại_bản', 'mạng', 'mạng_nhện', 'mạnh', 'mạnh_dạn', 'mạnh_khoẻ', 'mạnh_khỏe', 'mạnh_mẽ', 'mạnh_tay', 'mả_bố', 'mải', 'mảng', 'mảnh', 'mất', 'mất_công', 'mất_dạy', 'mất_giá', 'mất_gốc', 'mất_hút', 'mất_mặt', 'mất_ngủ', 'mất_nết', 'mất_tiêu', 'mất_tích', 'mấu_chốt', 'mấy', 'mấy_ai', 'mầm', 'mầm_mống', 'mầm_non', 'mần', 'mẩu', 'mẫu', 'mẫu_giáo', 'mập', 'mật', 'mật_ong', 'mật_vụ', 'mắc', 'mắc_xương', 'mắm_tép', 'mắm_tôm', 'mắng', 'mắng_chửi', 'mắt', 'mặc', 'mặc_cả', 'mặc_dù', 'mặc_kệ', 'mặc_niệm', 'mặn', 'mặp', 'mặt', 'mặt_bằng', 'mặt_dày', 'mặt_mày', 'mặt_nạ', 'mặt_trăng', 'mặt_trời', 'mặt_đường', 'mẹ', 'mẹ_cha', 'mẹ_già', 'mẹ_mày', 'mẹt', 'mẻ', 'mẽo', 'mề', 'mềm', 'mền', 'mềnh', 'mều', 'mệ', 'mệt', 'mệt_mỏi', 'mỉa_mai', 'mỉm', 'mị', 'mịa', 'mịe', 'mịn', 'mọa', 'mọc', 'mọc_sừng', 'mọe', 'mọi', 'mọt_gông', 'mỏ', 'mỏi', 'mỏi_mệt', 'mỏng_manh', 'mốc', 'mối', 'mốt', 'mồ_hôi', 'mồ_hôi_nước_mắt', 'mồi', 'mồm', 'mổ', 'mổi', 'mỗi', 'mộ', 'mộc', 'mộng', 'một', 'một_chút', 'một_cách', 'một_mình', 'một_số', 'một_đời', 'mớ', 'mới', 'mới_lạ', 'mớii', 'mớinxem', 'mớm', 'mờ', 'mời', 'mở', 'mở_cửa', 'mở_màn', 'mở_máy', 'mở_mắt', 'mỡ', 'mợ', 'mợt', 'mụ', 'mục', 'mục_đích', 'mụn', 'mủ', 'mức', 'mức_độ', 'mứt', 'mừ', 'mừn', 'mừng', 'mừng_quýnh', 'mửa', 'mỳ', 'mỹ', 'mỹ_thuật', 'mỹ_tục', 'na', 'na_ná', 'nai', 'nam', 'nam_nhân', 'nam_sinh', 'nam_tính', 'nao', 'nasa', 'nay', 'ne', 'neo', 'neo_đơn', 'net', 'neu', 'never', 'newnf', 'next', 'neymar', 'ng', 'nga', 'ngan', 'ngang', 'ngang_ngược', 'ngang_trái', 'ngay', 'ngay_mặt', 'nge', 'ngh', 'nghe', 'nghen', 'ngheng', 'nghi', 'nghia', 'nghiê', 'nghiêm', 'nghiêm_chỉnh', 'nghiêm_khắc', 'nghiêm_trọng', 'nghiêm_túc', 'nghiên_cứu', 'nghiên_cứu_viên', 'nghiêp', 'nghiền_nát', 'nghiện', 'nghiệp', 'nghiệp_chướng', 'nghiệt', 'nghiệt_ngã', 'nghr', 'nghèo', 'nghèo_hèn', 'nghèo_rớt_mồng_tơi', 'nghén', 'nghê', 'nghìn', 'nghĩ', 'nghĩ_lại', 'nghĩ_ngợi', 'nghĩ_quẩn', 'nghĩa_lí', 'nghề', 'nghề_nghiệp', 'nghệ_an', 'nghệ_thuật', 'nghệt', 'nghỉ', 'nghỉ_hè', 'nghỉ_việc', 'nghị', 'nghịch', 'nghịch_ngợm', 'ngiu', 'ngoa', 'ngoan', 'ngoan_ngoãn', 'ngoc', 'ngoe_nguẩy', 'ngon', 'ngon_lành', 'ngon_ngọt', 'ngon_ăn', 'ngoài', 'ngoác', 'ngoạc', 'ngoại', 'ngoại_lệ', 'ngoại_tình', 'ngta', 'ngu', 'ngu_dốt', 'ngu_muội', 'ngu_ngơ', 'ngu_ngốc', 'ngu_si', 'ngulon', 'nguoi', 'nguy_cơ', 'nguy_hiểm', 'nguy_hại', 'nguyen', 'nguyên', 'nguyên_chất', 'nguyên_nhân', 'nguyên_trạng', 'nguyên_xi', 'nguyễn_ngọc_thái', 'nguyễn_thị_hồng', 'nguyễn_trãi', 'nguyện', 'nguối', 'nguồn', 'nguồn_lực', 'ngà_ngà', 'ngài', 'ngàn', 'ngàn_thu', 'ngành', 'ngành_nghề', 'ngày', 'ngày_càng', 'ngày_mai', 'ngày_nay', 'ngày_ngày', 'ngày_sinh', 'ngày_sinh_nhật', 'ngày_tháng', 'ngày_xưa', 'ngán', 'ngáo', 'ngân', 'ngân_hàng', 'ngân_ngàng', 'ngân_sách', 'ngây', 'ngây_ngô', 'ngây_thơ', 'ngã', 'ngó', 'ngói', 'ngón', 'ngóng', 'ngô', 'ngôi', 'ngôn', 'ngôn_ngữ', 'ngông', 'ngông_nghênh', 'ngõ', 'ngăn', 'ngăn_chặn', 'ngăn_cản', 'ngĩ', 'ngũ', 'ngơ', 'ngơ_ngác', 'ngư', 'ngư_dân', 'ngưng', 'người', 'người_dân', 'người_dưng', 'người_lớn', 'người_ngoài', 'người_nhà', 'người_ta', 'người_thân', 'người_thương', 'người_yêu', 'người_đẹp', 'ngưỡn', 'ngưỡng', 'ngưỡng_mộ', 'ngược', 'ngược_lại', 'ngạc_nhiên', 'ngại', 'ngạt_thở', 'ngải', 'ngải_cứu', 'ngấm', 'ngất', 'ngất_xỉu', 'ngần', 'ngầu', 'ngẩng_mặt', 'ngẩng_đầu', 'ngẫm_nghĩ', 'ngậm', 'ngậm_mồm', 'ngậm_ngùi', 'ngập', 'ngắm', 'ngắm_nghía', 'ngắn', 'ngắn_gọn', 'ngắn_hạn', 'ngắn_ngủi', 'ngắt', 'ngẵn', 'ngặt', 'ngẻ', 'ngọai', 'ngọc', 'ngọn', 'ngọng', 'ngọt', 'ngọt_ngào', 'ngốc', 'ngốc_nghếch', 'ngồi', 'ngồi_rồi', 'ngồi_tù', 'ngổng', 'ngỗ_ngược', 'ngỗg', 'ngỗng', 'ngộ', 'ngộ_nghĩnh', 'ngột', 'ngớ_ngẩn', 'ngờ', 'ngờ_nghệch', 'ngỡ', 'ngủ', 'ngứa', 'ngứa_mắt', 'ngừng', 'ngừoi', 'ngửa', 'ngửi', 'ngữ_khí', 'ngữ_văn', 'ngự', 'ngựa', 'ngực', 'nha', 'nhaaa', 'nhaaaa', 'nhaaaaaaaa', 'nhai', 'nham', 'nhan', 'nhan_sắc', 'nhang', 'nhanh', 'nhanh_lẹ', 'nhanh_trí', 'nhaooo', 'nhau', 'nhay', 'nhaỷ', 'nhem_nhẻm', 'nhen', 'nhg', 'nhi', 'nhin', 'nhiu', 'nhiê', 'nhiêu', 'nhiếp_ảnh_gia', 'nhiếu', 'nhiều', 'nhiệm_vụ', 'nhiệt_tình', 'nhiệt_điện', 'nhiệt_đới', 'nho', 'nhu', 'nhu_cầu', 'nhu_nhược', 'nhung', 'nhuộm', 'nhy', 'nhà', 'nhà_báo', 'nhà_bếp', 'nhà_cửa', 'nhà_giáo', 'nhà_hàng', 'nhà_lầu', 'nhà_máy', 'nhà_nghỉ', 'nhà_ngủ', 'nhà_nước', 'nhà_quê', 'nhà_thơ', 'nhà_thương', 'nhà_thể', 'nhà_thờ', 'nhà_trẻ', 'nhà_tù', 'nhà_ăn', 'nhà_đá', 'nhàm', 'nhàn', 'nhào', 'nhá', 'nhái', 'nháo_nhào', 'nhát', 'nháy', 'nhâ', 'nhâm_nhi', 'nhân', 'nhân_cách', 'nhân_duyên_trời', 'nhân_dân', 'nhân_hòa_', 'nhân_hậu', 'nhân_phẩm', 'nhân_quả', 'nhân_tài', 'nhân_tính', 'nhân_viên', 'nhân_văn', 'nhân_vật', 'nhân_ái', 'nhât', 'nhâu', 'nhây', 'nhây_nhớp', 'nhãi', 'nhãm', 'nhãn', 'nhãn_vở', 'nhè', 'nhè_nhẹ', 'nhé', 'nhéo', 'nhét', 'nhì', 'nhìn', 'nhìn_nổi', 'nhình', 'nhìu', 'nhích', 'nhíp', 'nhòm', 'nhó', 'nhóc', 'nhói', 'nhóm', 'nhăn', 'nhăn_nhó', 'nhĩ', 'nhũng', 'như', 'như_là', 'như_thế', 'như_vầy', 'như_vậy', 'như_ý', 'nhưg', 'nhưng', 'nhưnh', 'nhường', 'nhường_nhịn', 'nhạc', 'nhạo', 'nhạt', 'nhạt_nhẽo', 'nhảm', 'nhảm_nhí', 'nhảy', 'nhảy_múa', 'nhấp', 'nhất', 'nhất_là', 'nhất_thiết', 'nhất_thể_loại', 'nhất_định', 'nhầm', 'nhẩy', 'nhẫn_nhịn', 'nhẫn_tâm', 'nhận', 'nhận_diện', 'nhận_thức', 'nhập', 'nhập_khẩu', 'nhập_nhằng', 'nhập_viện', 'nhật', 'nhật_ký', 'nhậu', 'nhậu_nhẹt', 'nhắc', 'nhắm', 'nhắm_mắt', 'nhắn', 'nhắn_tin', 'nhắng_nhít', 'nhằm', 'nhằm_nhò', 'nhằng', 'nhằng_nhằng', 'nhặng', 'nhặt', 'nhẹ', 'nhẹ_nhàng', 'nhẹ_nhõm', 'nhẽ', 'nhể', 'nhễ', 'nhện', 'nhỉ', 'nhị', 'nhịn', 'nhịp', 'nhọc', 'nhọc_lòng', 'nhọt', 'nhỏ', 'nhỏ_bé', 'nhỏ_nhen', 'nhỏ_nhoi', 'nhỏ_nhặt', 'nhỏn', 'nhố_nhăng', 'nhốt', 'nhồi_máu', 'nhồn', 'nhổ', 'nhổn', 'nhột', 'nhớ', 'nhớ_đời', 'nhớp_nhúa', 'nhờ', 'nhờ_vả', 'nhờn', 'nhởi', 'nhởn', 'nhỡ', 'nhục', 'nhục_nhã', 'nhừ_tử', 'những', 'nhựa', 'nicholas', 'nick', 'ninh_đa', 'ninja', 'niêm', 'niêm_yết', 'niếm', 'niềm', 'niềm_nở', 'niềng', 'nk', 'nl', 'nn', 'no', 'noa', 'noel', 'noi', 'non', 'note', 'noá', 'nt', 'nta', 'nthe', 'ntmk', 'ntnay', 'nua', 'nun', 'nung', 'nuôi', 'nuôi_dưỡng', 'nuôi_nấng', 'nuôn', 'nuốt', 'nv', 'ny', 'nyc', 'nà', 'nài_nỉ', 'nàn', 'nàng', 'nào', 'nào_đâu', 'nàooooo', 'này', 'này_nọ', 'ná', 'nách', 'nát', 'nâng_niu', 'nâu', 'nãn', 'não', 'nè', 'nèk', 'nèo', 'né', 'né_tránh', 'ném', 'nén', 'nét', 'nê', 'nên', 'nì', 'ní', 'nín', 'nít', 'níu', 'nó', 'nóc', 'nói', 'nói_bậy', 'nói_chung', 'nói_chuyện', 'nói_ngọng', 'nói_riêng', 'nói_tục', 'nói_xấu', 'nón', 'nóng', 'nóng_bức', 'nóng_tính', 'nôn', 'nông_dân', 'nông_sản', 'nông_thôn', 'nùi', 'núc', 'núi', 'núp', 'nă', 'năm', 'năm_hạn', 'năm_ngoái', 'năn', 'năn_nỉ', 'năng', 'năng_khiếu', 'năng_lượng', 'năng_lực', 'năng_động', 'nũa', 'nơi', 'nư', 'nưa', 'nươ', 'nước', 'nước_biển', 'nước_gạo', 'nước_lèo', 'nước_mắm', 'nước_mắt', 'nước_ngoài', 'nước_ngọt', 'nước_nôi', 'nước_thải', 'nước_tiểu', 'nước_đái', 'nướng', 'nạn', 'nạn_nhân', 'nản', 'nấp', 'nấu', 'nấu_nướng', 'nấu_ăn', 'nấy', 'nầy', 'nẩy', 'nắm', 'nắm_bắt', 'nắng', 'nằm', 'nằm_xuống', 'nặn', 'nặng', 'nặng_lời', 'nặng_nề', 'nặng_tình', 'nẹp', 'nếm', 'nếp', 'nết', 'nết_na', 'nếu', 'nếu_như', 'nền', 'nể', 'nệm', 'nện', 'nịnh_nọt', 'nọ', 'nọ_kia', 'nỏ', 'nốt', 'nốt_nhạc', 'nồg', 'nồi', 'nồng', 'nổ', 'nổi', 'nổi_tiếng', 'nổi_điên', 'nổii', 'nổiiiii', 'nỗ', 'nỗ_lực', 'nỗi', 'nỗi_lòng', 'nội', 'nội_bộ', 'nội_công', 'nội_dung', 'nội_tâm', 'nộp', 'nới', 'nờ', 'nở', 'nỡ', 'nỡ_lòng', 'nợ', 'nợ_nần', 'nụ', 'nức_nở', 'nứng', 'nửa', 'nửa_tiền', 'nửa_vời', 'nửa_đêm', 'nữ', 'nữ_sinh', 'nữa', 'nữaaa', 'oai', 'oan', 'oan_gia', 'oanh_liệt', 'of', 'oi', 'oimeoi', 'ok', 'okay', 'oke', 'okeeee', 'ol', 'on', 'ong', 'ong_bướm', 'online', 'or', 'oscar', 'oto', 'oy', 'page', 'pao', 'paris', 'pccc', 'per', 'percó', 'pg', 'ph', 'pha', 'phan', 'phang', 'phao', 'phe', 'pheee', 'phen', 'phi', 'phi_công', 'phi_hành_gia', 'phia', 'phim', 'phim_truyền_hình', 'phiên_bản', 'phiêu', 'phiêu_du', 'phiêu_lưu', 'phiền', 'phiền_hà', 'phone', 'phong', 'phong_thuỷ', 'phong_thủy', 'phong_trào', 'phong_độ', 'photoshop', 'phun', 'phàm', 'phàm_ăn', 'phàn_nàn', 'phá', 'phá_gia', 'phá_giá', 'phá_hoại', 'phá_hủy', 'phá_sản', 'phán', 'pháo', 'pháp', 'pháp_luật', 'pháp_y', 'phát', 'phát_biểu', 'phát_hiện', 'phát_huy', 'phát_khiếp', 'phát_ngôn', 'phát_triển', 'phát_tán', 'phát_âm', 'phát_điên', 'phân', 'phân_biệt', 'phân_chia', 'phân_khối', 'phân_tích', 'phân_vân', 'phèo', 'phép', 'phét', 'phê', 'phì', 'phì_phèo', 'phìm', 'phí', 'phía', 'phím', 'phò', 'phòng', 'phòng_hờ', 'phó', 'phóng', 'phóng_viên', 'phóng_điện', 'phôn', 'phù_du', 'phù_hợp', 'phú', 'phú_quý', 'phúc_đức', 'phút', 'phũ', 'phơ', 'phơi', 'phương_pháp', 'phương_tiện', 'phương_tây', 'phước', 'phường', 'phượng', 'phượng_hoàng', 'phượt', 'phạm', 'phạm_tội', 'phạm_đình', 'phạt', 'phạt_tù', 'phải', 'phản', 'phản_cảm', 'phản_đối', 'phản_ứng', 'phảu', 'phấn', 'phấn_đấu', 'phất', 'phần', 'phần_lớn', 'phần_nào', 'phần_phụ', 'phẫn_nộ', 'phận', 'phập', 'phật', 'phật_giáo', 'phắng', 'phẳng_lặng', 'phết', 'phịch', 'phọt', 'phỏng_vấn', 'phố', 'phối', 'phối_nhạc', 'phốt', 'phồng', 'phổi', 'phụ', 'phụ_huynh', 'phụ_nữ', 'phụ_thu', 'phụ_thuộc', 'phục', 'phục_vụ', 'phủ', 'phủ_nhận', 'phức', 'phức_tạp', 'phức_tạp_hóa', 'phựt', 'pin', 'pizza', 'pk', 'pogba', 'polime', 'post', 'power', 'pr', 'prayforparis', 'protein', 'pug', 'pv', 'pê', 'pạt', 'pải', 'q6', 'qa', 'qcao', 'qtrong', 'qua', 'qua_lại', 'qua_đời', 'quad', 'quai_hàm', 'quan', 'quan_hệ', 'quan_niệm', 'quan_sát', 'quan_trọng', 'quan_trọng_hoá', 'quan_tài', 'quan_tâm', 'quan_tâm_cơ', 'quan_điểm', 'quang', 'quang_trung', 'quanh', 'quay', 'quay_phim', 'que', 'quen', 'quen_biết', 'quen_quen', 'quen_thuộc', 'quy_luật', 'quy_mô', 'quy_trình', 'quy_tội', 'quy_định', 'quyến_rũ', 'quyết', 'quyết_tâm', 'quyết_định', 'quyền', 'quyền_lực', 'quyển', 'quà', 'quà_cáp', 'quài', 'quàng', 'quá', 'quá_chừng', 'quá_khích', 'quá_khứ', 'quá_ta', 'quá_thể', 'quá_trời', 'quá_xá', 'quá_đáng', 'quáaaaa', 'quách', 'quái', 'quái_vật', 'quái_ác', 'quái_đản', 'quán', 'quánh', 'quát', 'quát_mắng', 'quát_tháo', 'quâ', 'quân', 'quân_nhân', 'quây', 'quãng', 'què', 'qué', 'quét', 'quét_dọn', 'quê', 'quê_quán', 'quên', 'quì', 'quí_trọng', 'quô', 'quý', 'quý_báu', 'quý_hoá', 'quý_quốc', 'quăng', 'quơ', 'quạt', 'quả', 'quả_báo', 'quả_lừa', 'quả_nhiên', 'quả_quyết', 'quả_thận', 'quả_đất', 'quản_lý', 'quảng', 'quảng_cáo', 'quấy_rối', 'quần', 'quần_lót', 'quần_áo', 'quẩy', 'quận', 'quật', 'quậy', 'quằn', 'quẹo', 'quết', 'quễ', 'quốc', 'quốc_gia', 'quốc_hội', 'quốc_khánh', 'quỳ', 'quỳ_lạy', 'quỳnh', 'quỵt', 'quỷ', 'qá', 'qúa', 'ra', 'ra_rìa', 'ra_sao', 'ra_toà', 'ra_viện', 'ra_vào', 'ra_đời', 'ranh_con', 'ranh_giới', 'rank', 'rao_giảng_đạo_đức', 'rap', 'rat', 'rau', 'rau_má', 'ray', 're', 'real', 'rep', 'replay', 'rhì', 'ri', 'richkid', 'riêng', 'riêng_tư', 'riết', 'riền', 'riềng', 'rmit', 'roai', 'roi', 'romantic', 'ron', 'roài', 'ru', 'rubic', 'run_rẩy', 'rung', 'rung_động', 'ruồi', 'ruộng', 'ruột', 'rv', 'rài', 'rành', 'rành_rành', 'rào', 'rác', 'rác_thải', 'rách', 'rán', 'ráng', 'ráo', 'rát', 'râu', 'rãnh', 'ré', 'rét', 'rét_mướt', 'rê', 'rình_rập', 'ròi', 'ròii', 'ròng_rã', 'rón_rén', 'rót', 'rôm_rả', 'rông', 'rõ', 'rõ_mặt', 'rõ_ràng', 'rùi', 'rùng', 'rùng_mình', 'rú', 'rún', 'rút', 'rút_bớt', 'rút_cuộc', 'răn_đe', 'răng', 'răng_khôn', 'rũ', 'rơi', 'rơm', 'rưng_rưng', 'rước', 'rướn', 'rược', 'rượt', 'rạp', 'rả', 'rả_rích', 'rải', 'rảnh', 'rảnh_rỗi', 'rất', 'rầm_rầm_rộ', 'rần_rần', 'rần_rật', 'rầu', 'rắn', 'rắn_rết', 'rằm', 'rằng', 'rặt', 'rẻ', 'rẻ_mạt', 'rẻ_rúng', 'rẽ', 'rẽ_ngang', 'rể', 'rỉ', 'rọ_mõm', 'rối_bời', 'rốn', 'rốt', 'rốt_cuộc', 'rốt_cục', 'rồ', 'rồi', 'rồi_sao', 'rồi_đây', 'rồii', 'rồiii', 'rồiiiii', 'rồng', 'rồu', 'rổ', 'rộ', 'rộng', 'rớ', 'rớt', 'rờ', 'rời', 'rỡi', 'rợn', 'rụg', 'rụi', 'rụng', 'rụng_rời', 'rụnng', 'rủ', 'rủa', 'rủi', 'rủi_ro', 'rứa', 'rừng', 'rửa', 'rựa', 'rực', 'sa_tế', 'sad', 'sag', 'sai', 'sai_lầm', 'sai_lệch', 'sai_phạm', 'said', 'sale', 'san', 'san_sẻ', 'sang', 'sanh', 'sao', 'sao_chép', 'sao_hoả', 'saolol', 'saoooo', 'sapa', 'sat', 'sau', 'sau_này', 'say', 'say_mê', 'say_đắm', 'sayy', 'scl', 'se', 'se_lạnh', 'sem', 'sen', 'sg', 'sgk', 'sh', 'share', 'ship', 'shipper', 'shits', 'shop', 'si', 'sing', 'singapore', 'single', 'sinh', 'sinh_hạ', 'sinh_học', 'sinh_lý', 'sinh_mạng', 'sinh_nhật', 'sinh_thành', 'sinh_trưởng', 'sinh_tố', 'sinh_viên', 'sinh_vật', 'siro', 'siêng', 'siêng_năng', 'siêu', 'siêu_phẩm', 'siêu_thị', 'skill', 'skin', 'smart', 'sms', 'sn', 'so', 'so_sánh', 'socola', 'soi', 'son', 'song', 'song_hành', 'song_song', 'soái', 'soạn', 'spider', 'ss', 'stk', 'stream', 'stt', 'style', 'su', 'sub', 'sug', 'sun', 'sung_sướng', 'suong', 'sury', 'suy', 'suy_nghĩ', 'suy_ngẫm', 'suy_sụp', 'suy_thoái', 'suy_đồi', 'suýt', 'suýt_nữa', 'suất', 'suốt', 'sx', 'sài', 'sài_gòn', 'sàm', 'sàm_sỡ', 'sàn', 'sách', 'sách_giáo_khoa', 'sách_lược', 'sái', 'sán', 'sán_lợn', 'sáng', 'sáng_kiến', 'sáng_lập', 'sáng_mai', 'sáng_suốt', 'sáng_tạo', 'sánh_vai', 'sáp', 'sát', 'sát_cánh', 'sát_hại', 'sát_thương', 'sáu', 'sân', 'sân_bay', 'sân_si', 'sâu', 'sâu_lắng', 'sâu_sắc', 'sét', 'sì', 'síu', 'sòng_phẳng', 'sóc', 'sóng', 'sót', 'sô', 'sông', 'súa', 'súc', 'súc_sinh', 'súc_vật', 'súng', 'súng_ống', 'súp_lơ', 'sút', 'săn_sóc', 'sĩ', 'sĩ_diện', 'sơ', 'sơ_hở', 'sơ_mi', 'sơ_sài', 'sơi', 'sơn', 'sơn_la', 'sư', 'sư_phụ', 'sư_tử', 'sưng', 'sương_muối', 'sướng', 'sướt_mướt', 'sưởi', 'sạc', 'sạch', 'sạch_sẽ', 'sạn', 'sạt_nghiệp', 'sản_phẩm', 'sảng_khoái', 'sảnh', 'sấm', 'sấm_chớp', 'sấm_sét', 'sấp', 'sấp_mặt', 'sất', 'sấu', 'sầu_riêng', 'sập', 'sắc', 'sắm', 'sắp', 'sắp_sửa', 'sắp_đặt', 'sắt', 'sẵn', 'sẵn_sàng', 'sẻ', 'sẽ', 'sến', 'sếp', 'sểnh', 'sỉ_nhục', 'sọ_dừa', 'sọt', 'sỏi', 'số', 'số_phận', 'sốc', 'sốn', 'sống', 'sống_chết', 'sống_lưng', 'sống_động', 'sốt_me', 'sồi', 'sổ', 'sổ_đỏ', 'sớm', 'sớm_muộn', 'sờ', 'sời', 'sở_khanh', 'sởn', 'sởn_gai_ốc', 'sợ', 'sợ_hãi', 'sợi', 'sục', 'sụp', 'sủa', 'sức', 'sức_khoẻ', 'sức_khỏe', 'sức_lực', 'sức_mạnh', 'sứng', 'sứt', 'sừng', 'sử', 'sử_dụng', 'sửa', 'sửa_sai_lầm', 'sửu', 'sữa', 'sự', 'sự_cố', 'sự_nghiệp', 'sự_thật', 'sự_tích', 'sự_việc', 't2', 'ta', 'tag', 'tai', 'tai_nghe', 'tai_nạn', 'tam', 'tam_đảo', 'tan', 'tan_nát', 'tan_tành', 'tan_vỡ', 'tang_chứng', 'tanh_bành', 'tao', 'taooo', 'taoooo', 'tau', 'taxi', 'tay', 'tay_chân', 'tay_lái', 'tay_nghề', 'tay_phải', 'tay_trái', 'tay_trắng', 'tay_đôi', 'tayyy', 'te', 'team', 'teen', 'tg', 'th', 'tha', 'tha_hồ', 'thai', 'tham', 'tham_gia', 'tham_lam', 'than', 'than_thở', 'than_vãn', 'thang', 'thang_máy', 'thanh', 'thanh_hoá', 'thanh_hóa', 'thanh_niên', 'thanh_nữ', 'thanh_thản', 'thanh_tra', 'thanh_xuân', 'thank', 'thanos', 'thao_trường', 'that', 'thay', 'thay_thế', 'thay_vì', 'thay_đổi', 'thcs', 'the', 'the_thé', 'then_chốt', 'theo', 'theo_dõi', 'theo_trai', 'theo_đuổi', 'thi', 'thi_hành', 'thi_thoảng', 'thiiêu', 'thik', 'thiu_thối', 'thix', 'thiên_hạ', 'thiên_thần', 'thiên_thời', 'thiêu', 'thiì', 'thiến', 'thiết_bị', 'thiết_kế', 'thiếu', 'thiếu_nhi', 'thiếu_thời', 'thiếu_điều', 'thiền_định', 'thiểu_năng', 'thiệc', 'thiện', 'thiệp', 'thiệt', 'thiệt_hại', 'thiệt_thân', 'thoa', 'thoii', 'thoy', 'thoáng', 'thoát', 'thoại', 'thoả', 'thoả_mãn', 'thoả_đáng', 'thoải_mái', 'thu', 'thu_dọn', 'thu_hút', 'thu_ngân', 'thu_nhập', 'thu_thập', 'thua', 'thui', 'thun', 'thuoc', 'thuong', 'thuyết', 'thuyết_phục', 'thuê', 'thuần_phong', 'thuận', 'thuận_phạm', 'thuận_tay_trái', 'thuật', 'thuế', 'thuốc', 'thuốc_độc', 'thuộc', 'thuờg', 'thuở', 'thuỷ_lực', 'thuỷ_triều', 'thw', 'thy', 'thà', 'thành', 'thành_công', 'thành_long', 'thành_phần', 'thành_phố', 'thành_quả', 'thành_tâm', 'thành_viên', 'thách_thức', 'thái', 'thái_bình', 'thái_độ', 'tháng', 'thánh', 'thánh_gióng', 'tháo', 'tháy', 'thâ', 'thâm', 'thâm_niên', 'thân', 'thân_hình', 'thân_quen', 'thân_thiết', 'thân_thiện', 'thân_thân', 'thân_thương', 'thân_thể', 'thân_ái', 'thât', 'thâu', 'thây', 'thèm', 'thèm_khát', 'thèn', 'thé', 'thét', 'thê', 'thêm', 'thênh_thang', 'thì', 'thì_chớ', 'thì_ra', 'thì_thầm', 'thìa', 'thình_thịch', 'thí_thân', 'thích', 'thích_thú', 'thích_ý_chí', 'thích_đáng', 'thíck', 'thính', 'thíu', 'thóc', 'thói', 'thói_quen', 'thô', 'thôi', 'thôiiii', 'thông', 'thông_báo', 'thông_cảm', 'thông_minh', 'thông_tin', 'thông_điệp', 'thông_điệp_ý_nghĩa', 'thù', 'thùng', 'thú', 'thú_vui', 'thú_vị', 'thú_y', 'thúc_đẩy', 'thúi', 'thă', 'thăm', 'thăng_trầm', 'thơ', 'thơm', 'thơm_phức', 'thư', 'thươ', 'thương', 'thương_hiệu', 'thương_tiếc', 'thương_xót', 'thương_yêu', 'thươnggg', 'thường', 'thường_tình', 'thưởng_thức', 'thượng', 'thượng_hạng', 'thượng_lộ', 'thượng_đế', 'thượt', 'thạ', 'thạc_sĩ', 'thả', 'thải', 'thảm_họa', 'thảo', 'thấm', 'thấp', 'thấp_thỏm', 'thất', 'thất_bại', 'thất_tình', 'thất_tình_thật', 'thất_vọng', 'thất_đức', 'thấu', 'thấu_hiểu', 'thấy', 'thầm', 'thầm_lặng', 'thần', 'thần_kinh', 'thần_sắc', 'thần_thái', 'thần_thánh', 'thần_tài', 'thần_tượng', 'thầu', 'thầy', 'thầy_cô', 'thẩm_phán', 'thẫn', 'thậc', 'thậm_chí', 'thận', 'thật', 'thật_ra', 'thật_sự', 'thật_thà', 'thật_tình', 'thắc', 'thắc_mắc', 'thắng', 'thằg', 'thằn_lằn', 'thằng', 'thẳg', 'thẳng', 'thẳng_tay', 'thẳng_thắn', 'thặc', 'thẹn', 'thẹo', 'thẻ', 'thế', 'thế_chân', 'thế_chứ', 'thế_gian', 'thế_giới', 'thế_hệ', 'thế_kỷ', 'thế_là', 'thế_mà', 'thế_nhân_văn', 'thế_nào', 'thế_này', 'thề', 'thể', 'thể_hiện', 'thể_loại', 'thể_thao', 'thỉnh_thoảng', 'thị', 'thị_trường', 'thịt', 'thịt_nướng', 'thọ', 'thọc', 'thọt', 'thỏ', 'thối', 'thối_mồm', 'thối_nát', 'thốn', 'thống_kê', 'thổ', 'thổ_lộ', 'thổ_nhưỡng', 'thổi', 'thớt', 'thờ_ơ', 'thời', 'thời_buổi', 'thời_gian', 'thời_sự', 'thời_thế', 'thời_tiết', 'thời_trang', 'thời_xưa', 'thời_điểm', 'thời_đại', 'thở', 'thở_dài', 'thợ', 'thụ_cảm_giác', 'thụ_động', 'thục_mạng', 'thụi', 'thụt', 'thủ', 'thủ_tướng', 'thủ_đoạn', 'thủng', 'thủy_lực', 'thứ', 'thức', 'thức_dậy', 'thức_ăn', 'thừa', 'thừa_thế', 'thừng', 'thử', 'thử_lòng', 'thử_nghiệm', 'thử_thách', 'thự', 'thực', 'thực_dụng', 'thực_hiện', 'thực_lực', 'thực_phẩm', 'thực_ra', 'thực_sự', 'thực_trạng', 'thực_tập', 'thực_tế', 'thực_đơn', 'ti', 'tiep', 'tim', 'tim_gan', 'time', 'timmmmm', 'tin', 'tin_tưởng', 'tin_vui', 'tinh', 'tinh_thần', 'tinh_trùng', 'tinh_tế', 'tiê', 'tiên', 'tiên_sư', 'tiêu', 'tiêu_chuẩn', 'tiêu_chảy', 'tiêu_cực', 'tiêu_diệt', 'tiêu_hủy', 'tiêu_tan', 'tiêu_đề', 'tiếc', 'tiếc_nuối', 'tiến_bộ', 'tiến_hoá', 'tiến_hóa', 'tiến_sĩ', 'tiến_thủ', 'tiến_triển', 'tiếng', 'tiếng_xấu', 'tiếp', 'tiếp_cận', 'tiếp_diễn', 'tiếp_quản', 'tiếp_tay', 'tiếp_theo', 'tiếp_thu', 'tiếp_tục', 'tiếp_xúc', 'tiết', 'tiền', 'tiền_bạc', 'tiền_kiếp', 'tiền_mặt', 'tiền_nong', 'tiền_túi', 'tiển', 'tiểu_học', 'tiểu_thuyết', 'tiễn', 'tiệc', 'tiệm', 'tiện', 'tiệt', 'tk', 'tks', 'tml', 'tn', 'tnao', 'tno', 'to', 'to_xác', 'to_đùng', 'toa', 'toang_toác', 'toau', 'toe_toét', 'toilet', 'tokuda', 'tong', 'top', 'top1', 'topic', 'toà_án', 'toàn', 'toàn_bị', 'toàn_bộ', 'toàn_phần', 'toàn_tiến', 'toàn_tài_liệu', 'toác', 'toán', 'toán_học', 'toè', 'toét', 'toại_nguyện', 'toẹt', 'tpbank', 'tq', 'tr', 'tra', 'tra_tấn', 'trades', 'trag', 'trai', 'traiiii', 'trailer', 'trang', 'trang_trí', 'tranh', 'tranh_cãi', 'tranh_luận', 'tranh_thủ', 'trao', 'trao_đổi', 'trc', 'tre', 'treo', 'treo_cổ', 'trg', 'tri', 'tri_hô', 'tri_kỉ', 'trieu', 'trinh', 'tripod', 'triều', 'triển', 'triển_lãm', 'triệt_sản', 'triệu', 'triệu_phú', 'tro', 'tro_tàn', 'troai', 'trog', 'troi', 'troll', 'trong', 'trong_sáng', 'trong_sạch', 'troét', 'trum', 'trump', 'trung', 'trung_bình', 'trung_nguyên', 'trung_quốc', 'trung_thu', 'trung_ương', 'truong', 'truy', 'truy_cứu', 'truy_nã', 'truy_tố', 'truyền', 'truyền_bá', 'truyền_cảm_hứng', 'truyền_hình', 'truyền_thuyết', 'truyền_thống', 'truyền_điện', 'truyện', 'truyện_cổ_tích', 'truất', 'truỵên', 'trym', 'trà', 'tràn_ngập', 'trào', 'trá', 'trá_hình', 'trách', 'trách_nhiệm', 'trái', 'trái_chủ', 'trái_tim', 'trái_đất', 'trán', 'tránh', 'tráo_trở', 'trân_châu', 'trân_trọng', 'trâu', 'trâu_chó', 'trèo', 'trét', 'trên', 'trêu', 'trêu_chọc', 'trí_khôn', 'trí_tuệ', 'trích', 'trò', 'trò_cười', 'trò_đùa', 'tròn', 'trót', 'trôi', 'trôi_sông', 'trông', 'trùm', 'trùn', 'trùng_hợp', 'trúc', 'trúng', 'trúng_số', 'tră', 'trăm', 'trăm_ngàn', 'trăng', 'trĩ', 'trơ', 'trơi', 'trư', 'trưa', 'trước', 'trước_hết', 'trước_kia', 'trước_mắt', 'trường', 'trường_học', 'trường_hợp', 'trưởng', 'trưởng_thành', 'trượt', 'trượt_chân', 'trại', 'trạng_thái', 'trả', 'trả_giá', 'trả_góp', 'trả_lời', 'trả_thù', 'trải', 'trải_nghiệm', 'trấn', 'trất', 'trầm_cảm', 'trầm_trọng', 'trầm_trồ', 'trầu', 'trầu_cau', 'trầy', 'trẩu', 'trận', 'trật', 'trật_bánh', 'trật_tự', 'trắc', 'trắc_địa', 'trắng', 'trắng_bóc', 'trắng_tay', 'trẻ', 'trẻ_con', 'trẻ_em', 'trễ', 'trị', 'trọ', 'trọc', 'trọn', 'trọn_vẹn', 'trọng_dụng', 'trọng_đại', 'trỏ', 'trốn', 'trốn_tránh', 'trống_rỗng', 'trống_vắng', 'trồi', 'trồng', 'trổi', 'trỗ', 'trộm', 'trộm_cắp', 'trộn', 'trời', 'trời_đánh', 'trời_đất', 'trời_ơi', 'trờiiiiii', 'trở', 'trở_lên', 'trở_lại', 'trở_nên', 'trở_thành', 'trở_về', 'trợ', 'trợ_giúp', 'trụ', 'trụi', 'trức', 'trứng', 'trừ', 'trực', 'trực_tiếp', 'ts', 'tsb', 'tt', 'tu', 'tu_hành', 'tu_luyện', 'tu_tu', 'tua', 'tui', 'tuii', 'tung', 'tung_hô', 'tuy', 'tuy_hoà', 'tuyet', 'tuyên_bố', 'tuyên_truyền', 'tuyết', 'tuyển', 'tuyển_dụng', 'tuyệt', 'tuyệt_chủng', 'tuyệt_cú', 'tuyệt_vời', 'tuyệt_đối', 'tuôi', 'tuấn_kiệt', 'tuần', 'tuốt', 'tuổi', 'tuổi_thơ', 'tuổi_trẻ', 'tuổi_tác', 'tuột', 'tuỳ', 'tv', 'twirter', 'tà', 'tài', 'tài_ba', 'tài_chính', 'tài_giỏi', 'tài_liệu', 'tài_nguyên', 'tài_năng', 'tài_sản', 'tài_xế', 'tàn', 'tàn_nhang', 'tàn_nhẫn', 'tàn_phá', 'tàn_tro', 'tàn_tật', 'tàn_ác', 'tàn_độc', 'tào', 'tào_lao', 'tàu', 'tàu_hoả', 'tàu_hỏa', 'tác', 'tác_dụng', 'tác_hại', 'tác_phong', 'tác_phẩm', 'tách', 'tái_tạo', 'tán', 'tán_loạn', 'táng', 'tánh', 'táo', 'táp', 'tát', 'tâm', 'tâm_hồn', 'tâm_linh', 'tâm_lý', 'tâm_sức', 'tâm_sự', 'tâm_thần', 'tâm_trí', 'tâm_trạng', 'tâm_tính', 'tân', 'tâng_tâng', 'tây', 'tây_bắc', 'tây_nguyên', 'tã', 'tè', 'té', 'té_ra', 'tém', 'téo', 'tép', 'tét', 'tê', 'tê_giác', 'tê_tê', 'tên', 'tên_tuổi', 'tìm', 'tìm_hiểu', 'tình', 'tình_báo', 'tình_cảm', 'tình_cờ', 'tình_huống', 'tình_hình', 'tình_nghĩa', 'tình_nguyện', 'tình_nhân', 'tình_phụ_tử', 'tình_thân', 'tình_thương', 'tình_trạng', 'tình_yêu', 'tình_yêu_thương', 'tình_ái', 'tí', 'tía', 'tích_cực', 'tích_sự', 'tích_tụ', 'tím', 'tín_ngưỡng', 'tính', 'tính_chuyện', 'tính_mạng', 'tính_tình', 'típ', 'tít', 'tòa', 'tóc', 'tóm', 'tóm_lại', 'tô', 'tôgn', 'tôi', 'tôiii', 'tôm', 'tôn', 'tôn_trọng', 'tông', 'tù', 'tù_chung_thân', 'tù_tội_gì', 'tùm_lum', 'tùy', 'tú', 'túa', 'túi', 'túm', 'tý', 'tăm_tối', 'tăng', 'tĩnh', 'tơ', 'tơi', 'tư', 'tư_cách', 'tư_pháp', 'tư_sản', 'tư_tưởng', 'tưng', 'tưng_tưng', 'tưng_tửng', 'tưong', 'tươ', 'tươi', 'tươi_cười', 'tươi_đẹp', 'tương_lai', 'tương_tác', 'tương_tự', 'tướng', 'tường', 'tưởg', 'tưởng', 'tưởng_chừng', 'tưởng_tượng', 'tạ_tội', 'tại', 'tại_chỗ', 'tại_sao', 'tạm', 'tạm_biệt', 'tạm_thời', 'tạo', 'tạo_hoá', 'tạo_hóa', 'tạp_chất', 'tạp_hoá', 'tạt', 'tả', 'tải', 'tấm', 'tấm_gương', 'tấn', 'tấn_công', 'tất_cả', 'tất_nhiên', 'tấu', 'tầm', 'tần', 'tầng', 'tầu', 'tẩm', 'tẩm_bổ', 'tẩy', 'tẩy_trang', 'tận', 'tận_cùng', 'tận_tâm', 'tập', 'tập_huấn', 'tập_thể', 'tập_trung', 'tập_trận', 'tật', 'tật_nguyền', 'tắc', 'tắm', 'tắm_rửa', 'tắt', 'tắt_thở', 'tắt_vô', 'tằm', 'tặng', 'tẹo', 'tế', 'tết', 'tếu', 'tềnh', 'tệ', 'tỉ', 'tỉ_mỉ', 'tỉnh', 'tỉnh_giấc', 'tỉnh_táo', 'tịnh', 'tỏ', 'tỏ_tình', 'tỏ_vẻ', 'tỏa', 'tố_chất', 'tố_cáo', 'tốc', 'tốc_độ', 'tối', 'tối_cổ', 'tối_qua', 'tốn', 'tốt', 'tốt_nghiệp', 'tốt_đẹp', 'tồi', 'tồi_tệ', 'tồn_tại', 'tổ', 'tổ_cha', 'tổ_chức', 'tổ_quốc', 'tổ_sư', 'tổn_thương', 'tổn_thất', 'tổng_giám_đốc', 'tổng_kết', 'tổng_thống', 'tổng_đài', 'tội', 'tội_lỗi', 'tội_nghiệp', 'tội_phạm', 'tội_ác', 'tội_đồ', 'tột_đỉnh', 'tớ', 'tới', 'tới_cùng', 'tới_hoá', 'tới_mức', 'tới_tấp', 'tớn', 'tờ', 'tờ_rơi', 'tởm', 'tởn', 'tợp', 'tụ_họp', 'tụ_tập', 'tục', 'tục_tĩu', 'tụi', 'tụi_tao', 'tụm', 'tụt', 'tủ', 'tủ_lạnh', 'tủi', 'tủi_hổ', 'tủi_nhục', 'tủi_thân', 'tứ', 'tứ_linh', 'tứ_tung', 'tứ_xứ', 'tức', 'tức_cười', 'từ', 'từ_biệt', 'từ_bỏ', 'từ_chối', 'từ_thiện', 'từ_từ', 'từg', 'từng', 'từng_trải', 'tử', 'tử_hình', 'tử_tế', 'tữn', 'tự', 'tự_chủ', 'tự_do', 'tự_dưng', 'tự_hào', 'tự_kỉ', 'tự_nguyện', 'tự_nhiên', 'tự_phát', 'tự_sát', 'tự_tin', 'tự_trào', 'tự_trọng', 'tự_tử', 'tự_vấn', 'tự_ái', 'tự_ý', 'tự_động', 'tỳ', 'tỵ', 'tỷ', 'tỷ_lệ', 'u_ám', 'ui', 'uiii', 'uiiiii', 'ukm', 'um', 'um_sùm', 'un', 'undercut', 'unesco', 'ung_thư', 'ung_ủng', 'unlike', 'uoc', 'uwu', 'uy_tín', 'uất', 'uầy', 'uề', 'uống', 'uổng_phí', 'uớc', 'va', 'va_chạm', 'vai', 'vai_trò', 'vailon', 'vaiz', 'valak', 'valentine', 'valungtung', 'van_hóa', 'van_xin', 'vanew', 'vay', 'vcd', 'vcllll', 'vd', 've', 've_sầu', 'ven', 'vi', 'vi_diệu', 'vi_khuẩn', 'vi_phạm', 'vi_rút', 'vi_sóng', 'vi_trùng_vi', 'vi_vu', 'vid', 'video', 'vietcombank', 'vietsub', 'view', 'vinh_quang', 'vinmec', 'virut', 'viê', 'viêm', 'viên', 'viẹc', 'viết', 'viềng', 'viển_vông', 'việc', 'việc_làm', 'viện', 'việt', 'vk', 'vkl', 'vks', 'vler', 'vliz', 'vll', 'vlll', 'vlllll', 'vlog', 'vlon', 'vn', 'voi', 'vol', 'volum', 'vong', 'vong_linh', 'vote', 'vr', 'vtc', 'vtv24', 'vu', 'vua', 'vui', 'vui_chơi', 'vui_mừng', 'vui_sướng', 'vui_tính', 'vui_tươi', 'vui_vẻ', 'vuii', 'vung', 'vuông', 'vv', 'và', 'vài', 'vàng', 'vàng_đen', 'vào', 'vá', 'vác', 'vác_mặt', 'ván', 'váy', 'vâ', 'vâng', 'vây', 'vã', 'vãi', 'vãi_chưởng', 'vãiii', 'vãiiii', 'vãiiiiiiii', 'vãiiiiiiiii', 'vãn', 'vé', 'vé_số', 'vén', 'véo', 'vê', 'vênh', 'vì', 'vì_sao', 'vì_vậy', 'ví_dụ', 'vít', 'víu', 'vòi', 'vòng', 'vòng_vòng', 'vô', 'vô_cùng', 'vô_cảm', 'vô_cực', 'vô_duyên', 'vô_dụng', 'vô_gia_cư', 'vô_giá', 'vô_giá_trị', 'vô_hạn', 'vô_học', 'vô_kể', 'vô_liêm_sỉ', 'vô_lí', 'vô_lý', 'vô_nghĩa', 'vô_nhân_tính', 'vô_nhân_đạo', 'vô_số', 'vô_tâm', 'vô_tình', 'vô_ý_thức', 'vô_địch', 'vô_ơn', 'vôi', 'võ', 'võ_công', 'võ_nghệ', 'võ_thuật', 'võng', 'vùi', 'vùng', 'văn', 'văn_chương', 'văn_ho', 'văn_hoá', 'văn_hóa', 'văn_học', 'văn_minh', 'vĩ_đại', 'vĩnh_hằng', 'vĩnh_viễn', 'vũ', 'vũ_khí', 'vũ_lực', 'vũ_phu', 'vũ_trụ', 'vũng_tàu', 'vơ', 'vương', 'vương_miện', 'vướn', 'vườn', 'vượn', 'vượt', 'vạch', 'vạch_mặt', 'vại', 'vạn', 'vạn_sự', 'vạy', 'vả', 'vải', 'vấn_đề', 'vấp', 'vất', 'vất_vả', 'vần', 'vầy', 'vẩn', 'vẩy', 'vẫ', 'vẫn', 'vẫy', 'vẫy_vùng', 'vận', 'vật', 'vật_chất', 'vật_liệu', 'vật_lý', 'vậy', 'vậy_mà', 'vậy_nên', 'vậyyyyy', 'vắng', 'vắt', 'vặn', 'vặt', 'vẹo', 'vẻ', 'vẽ', 'vẽ_chuyện', 'vếu', 'về', 'vệ_sinh', 'vỉa', 'vỉa_hè', 'vị', 'vị_trí', 'vịt', 'vọt', 'vỏ', 'vỏn_vẹn', 'vốn', 'vồ', 'vỗ_tay', 'vội', 'vớ', 'vớ_vẩn', 'với', 'với_lại', 'vớiiiiii', 'vờ', 'vời', 'vở', 'vở_kịch', 'vỡ', 'vỡ_giọng', 'vợ', 'vợ_bé', 'vợ_chồng', 'vợ_con', 'vụ', 'vụ_việc', 'vụ_án', 'vụn', 'vụn_vặt', 'vụng', 'vụt', 'vứt', 'vừa', 'vừa_qua', 'vừa_rồi', 'vừa_ý_nghĩa', 'vửa', 'vững', 'vững_tâm', 'vực', 'wao', 'waooooo', 'wc', 'weeee', 'where', 'why', 'woa', 'wow', 'wtf', 'x10', 'x20', 'xa', 'xa_cách', 'xa_hoa', 'xa_lạ', 'xa_vời', 'xanh', 'xanh_cỏ', 'xanh_mắt', 'xanhhhh', 'xao_xuyến', 'xd', 'xe', 'xe_bò', 'xe_hơi', 'xe_khôn', 'xe_lăn', 'xe_lửa', 'xe_máy', 'xe_tải', 'xe_ôm', 'xe_đạp', 'xem', 'xem_chừng', 'xem_lại', 'xem_nhẹ', 'xem_thường', 'xen', 'xh', 'xi_nhan', 'xiaolin', 'xiaolon', 'xin', 'xin_lỗi', 'xinh', 'xinh_xinh', 'xinh_xắn', 'xinh_đẹp', 'xink', 'xiu', 'xiên', 'xiền', 'xog', 'xomg', 'xong', 'xong_xuôi', 'xong_đời', 'xoài', 'xoá', 'xoá_nhoà', 'xoá_sổ', 'xoè', 'xoạc', 'xoắn', 'xoắn_ốc', 'xquang', 'xu', 'xua', 'xua_đuổi', 'xui', 'xung_quanh', 'xung_điện', 'xuyên', 'xuân', 'xuýt', 'xuất', 'xuất_hiện', 'xuất_sắc', 'xuất_viện', 'xuống', 'xuống_cấp', 'xuốt', 'xxx', 'xà', 'xài', 'xàm', 'xành', 'xào', 'xác', 'xác_chết', 'xác_nhận', 'xác_định', 'xách', 'xám', 'xáng', 'xát', 'xâ', 'xây', 'xây_dựng', 'xã', 'xã_giao', 'xã_hội', 'xãy', 'xé', 'xém', 'xì', 'xí', 'xíu', 'xò', 'xóa', 'xóm', 'xót', 'xô', 'xôi', 'xõa', 'xù', 'xùm', 'xúc', 'xúc_động', 'xúm', 'xún', 'xăng', 'xĩu', 'xơi', 'xưa', 'xưa_nay', 'xưng', 'xương', 'xương_sườn', 'xước', 'xược', 'xạo', 'xạolin', 'xả', 'xảo_quyệt', 'xảy', 'xấc_xược', 'xấu', 'xấu_hổ', 'xấu_mặt', 'xấu_tính', 'xấu_xa', 'xắm', 'xẹp_lép', 'xẻ', 'xếp', 'xỉn', 'xỉu', 'xịt', 'xịu', 'xỏ', 'xốp', 'xồ', 'xới', 'xời', 'xứ', 'xứng_đáng', 'xử', 'xử_bắn', 'xử_lí', 'xử_lý', 'xử_phạt', 'xử_tử', 'y_chang', 'y_nguyên', 'y_như', 'y_như_rằng', 'y_tế', 'yasuo', 'yeahh', 'you', 'youtuber', 'yên', 'yên_bình', 'yên_tâm', 'yên_ổn', 'yêu', 'yêu_cầu', 'yêu_mến', 'yêu_quý', 'yêu_thương', 'yêu_tinh', 'yêu_đương', 'yêuc', 'yêuu', 'yến', 'yếu', 'yếu_kém', 'yếu_thế', 'yếu_tố', 'yếu_đuối', 'yếu_ớt', 'zai', 'zay', 'zi', 'zl', 'zo', 'zoe', 'zombie', 'zui', 'záy', 'zại', 'zị', 'zồi', 'zời', 'àh', 'àk', 'ào', 'á_đông', 'ác', 'ác_cảm', 'ác_mộng', 'ác_quỷ', 'ác_ôn', 'ác_độc', 'ám', 'ám_ảnh', 'án', 'án_mạng', 'án_phí', 'án_treo', 'ánh', 'ánh_sáng', 'áo', 'áo_dài', 'áo_khoác', 'áo_mưa', 'áo_quần', 'áo_vàng', 'áp_dụng', 'áp_lực', 'áy_náy', 'âm', 'âm_binh', 'âm_binh_khí', 'âm_lịch', 'âm_mưu', 'âm_nhạc', 'âm_thanh', 'ân_cần', 'âu', 'ây', 'èo', 'éo', 'ép', 'êiiii', 'êm', 'êu', 'ích_kỉ', 'ích_kỷ', 'ít', 'ít_bữa', 'ít_nhất', 'ít_ra', 'íu', 'óc', 'ói', 'ô_nhiễm', 'ô_nhục', 'ô_tô', 'ô_uế', 'ôg', 'ôi', 'ôi_thôi', 'ôiii', 'ôm', 'ôm_đầu', 'ôn', 'ônc', 'ông', 'ông_bà', 'ôtô', 'ùa', 'ùi', 'úa', 'úi', 'úng', 'úp', 'ý_kiến', 'ý_nghĩ', 'ý_nghĩa', 'ý_thức', 'ý_tưởng', 'ý_tứ', 'ý_định', 'ýk', 'ăn', 'ăn_bám', 'ăn_bòn', 'ăn_chay', 'ăn_chung', 'ăn_chắc', 'ăn_chặn', 'ăn_cám', 'ăn_cắp', 'ăn_hiếp', 'ăn_hàng', 'ăn_hại', 'ăn_học', 'ăn_ké', 'ăn_liền', 'ăn_mặc', 'ăn_mặn', 'ăn_nhậu', 'ăn_nói', 'ăn_theo', 'ăn_tiêu', 'ăn_tiệc', 'ăn_trộm', 'ăn_tạp', 'ăn_uống', 'ăn_vạ', 'ăn_xin', 'ăn_ở', 'đa', 'đa_phần', 'đa_số', 'đag', 'đai', 'đaklak', 'đam_mê', 'đame', 'đang', 'đanh', 'đanh_đá', 'đao', 'đau', 'đau_buồn', 'đau_khổ', 'đau_lòng', 'đau_ruột', 'đau_xót', 'đau_điếng', 'đau_đầu', 'đau_đẻ', 'đau_đớn', 'đaumoa', 'đbh', 'đcm', 'đcđ', 'đe', 'đem', 'đen', 'đen_đen', 'đeo', 'đep', 'đh', 'đhs', 'đi', 'đi_lại', 'đi_nữa', 'đi_đứng', 'đii', 'điii', 'điiii', 'đinh', 'điên', 'điên_cuồng', 'điên_khùng', 'điêu', 'điếc', 'điếc_tai', 'điếu', 'điềm', 'điều', 'điều_hòa', 'điều_kiện', 'điều_tra', 'điều_độ', 'điểm', 'điểm_danh', 'điểm_mù', 'điển_trai', 'điện', 'điện_thoại', 'điện_thế', 'điện_ảnh', 'điệt', 'điệu', 'đk', 'đki', 'đn', 'đo', 'đoan', 'đoi', 'đong', 'đoàn_kết', 'đoàn_viên', 'đoàng', 'đoá', 'đoán', 'đoạn', 'đoạt', 'đu', 'đu_đủ', 'đua', 'đun', 'đung_đưa', 'đuôi', 'đuông', 'đuổi', 'đuợc', 'đuỹ', 'đx', 'đzai', 'đà', 'đài', 'đàn', 'đàn_bà', 'đàn_hồi', 'đàn_ông', 'đàng', 'đàng_hoàng', 'đành', 'đành_rằng', 'đào', 'đào_thải', 'đào_tạo', 'đày_đoạ', 'đá', 'đách', 'đág', 'đái', 'đám', 'đáng', 'đáng_giá', 'đánh', 'đánh_bại', 'đánh_lộn', 'đánh_rơi', 'đánh_rắm', 'đánh_thức', 'đánh_đòn', 'đánh_đấm', 'đánh_đổi', 'đáp', 'đáp_số', 'đáy', 'đâ', 'đâm', 'đâm_chết', 'đâu', 'đâu_đâu', 'đâu_đó', 'đây', 'đâyy', 'đã', 'đãi', 'đè', 'đèn', 'đèn_cầy', 'đèn_đỏ', 'đèo', 'đéo', 'đéo_mẹ', 'đéo_thể', 'đét', 'đêm', 'đêm_đêm', 'đích', 'đít', 'đíu', 'đíuu', 'đòi', 'đòn', 'đó', 'đóa', 'đóg', 'đói', 'đón', 'đón_nhận', 'đóng', 'đóng_cửa', 'đô', 'đôi', 'đôi_ba', 'đôi_co', 'đôi_khi', 'đôi_lần', 'đôi_lứa', 'đông', 'đông_lạnh', 'đù', 'đùa', 'đùa_cợt', 'đùi', 'đùn_đẩy', 'đùng', 'đú', 'đúc', 'đúg', 'đúi', 'đúng', 'đúng_sai', 'đúng_đắn', 'đút', 'đút_lót', 'đăm_đăm', 'đăng', 'đăng_khoa', 'đăng_kí', 'đĩ_thõa', 'đĩ_điếm', 'đĩa', 'đĩa_bay', 'đũa', 'đũy', 'đơ', 'đơn', 'đơn_giản', 'đơn_phương', 'đơn_thuần', 'đơn_vị', 'đư', 'đưa', 'đưa_đón', 'đươ', 'đương_nhiên', 'đương_đầu', 'đười_ươi', 'đường', 'đường_ray', 'đường_sắt', 'đường_thẳng', 'đường_vòng', 'được', 'đượm', 'đại', 'đại_gia', 'đại_gia_đình', 'đại_học', 'đại_loại', 'đại_lý', 'đại_sự', 'đại_thánh', 'đại_trà', 'đại_tu', 'đại_từ', 'đạn', 'đạo', 'đạo_diễn', 'đạo_lý', 'đạo_đức', 'đạp', 'đạt', 'đảm_bảo', 'đấm', 'đất', 'đất_nước', 'đất_sét', 'đất_đai', 'đấu', 'đấu_giá', 'đấu_kiếm', 'đấu_tranh', 'đấu_trường', 'đấy', 'đấyy', 'đấyyyy', 'đấyyyyy', 'đầm', 'đầm_đìa', 'đầu', 'đầu_bài', 'đầu_bạc', 'đầu_gấu', 'đầu_hói', 'đầu_lâu', 'đầu_lọc', 'đầu_thai', 'đầu_tiên', 'đầu_tư', 'đầu_óc', 'đầy', 'đầy_rẫy', 'đầy_đủ', 'đẩy', 'đẫy_đà', 'đậm', 'đậm_đặc', 'đập', 'đập_chết', 'đậu', 'đậu_phộng', 'đậu_xanh', 'đắn_đo', 'đắng', 'đắng_cay', 'đắp', 'đắt', 'đắt_hàng', 'đằng', 'đẳng_cấp', 'đặc_biệt', 'đặc_sắc', 'đặc_vụ', 'đặng', 'đặng_', 'đặt', 'đặt_chân', 'đẹo', 'đẹp', 'đẹp_trai', 'đẹp_đẽ', 'đẻ', 'đẻ_trứng', 'đếch', 'đến', 'đến_nỗi', 'đếu', 'đề', 'đề_cương', 'đề_kháng', 'đề_nghị', 'đền', 'đền_chùa', 'đền_đáp', 'đều', 'để', 'để_ý', 'đển', 'đểu', 'đỉ', 'đỉa', 'đỉnh', 'địa', 'địa_chỉ', 'địa_lợi', 'địa_phương', 'địch', 'định', 'định_giá', 'định_hướng', 'định_kiến', 'định_kì', 'định_mệnh', 'định_nghĩa', 'địt_mẹ', 'đọ', 'đọan', 'đọc', 'đọc_bài', 'đỏ', 'đỏ_hỏn', 'đố', 'đối', 'đối_phương', 'đối_thủ', 'đối_tác', 'đối_tượng', 'đối_với', 'đối_xử', 'đốn', 'đống', 'đốt', 'đồ', 'đồ_chơi', 'đồ_giả', 'đồ_hoạ_mi', 'đồ_ngốc', 'đồ_ăn', 'đồ_đạc', 'đồ_đệ', 'đồi', 'đồn', 'đồng', 'đồng_bằng', 'đồng_chí', 'đồng_cảm', 'đồng_giá', 'đồng_hành', 'đồng_hồ', 'đồng_loại', 'đồng_lòng', 'đồng_nghiệp', 'đồng_nghĩa', 'đồng_thanh', 'đồng_tiền', 'đồng_tính', 'đồng_ý', 'đồng_đội', 'đổ', 'đổ_máu', 'đổ_thừa', 'đổ_vỡ', 'đổ_xô', 'đổ_đầy', 'đổi', 'đổi_thay', 'đỗ', 'độ', 'độc', 'độc_bình_luận', 'độc_nhất', 'độc_thân', 'độc_ác', 'độg', 'đội', 'độn', 'động', 'động_chạm', 'động_dục', 'động_lực', 'động_phòng', 'động_viên', 'đột_nhiên', 'đớn_đau', 'đớp', 'đời', 'đời_sống', 'đời_thường', 'đở', 'đỡ', 'đỡ_đẻ', 'đợi', 'đợi_chờ', 'đợt', 'đục', 'đục_khoét', 'đụme', 'đụng', 'đụng_chạm', 'đủ', 'đứa', 'đức', 'đức_bà', 'đức_hạnh', 'đứng', 'đứt', 'đứt_ruột', 'đừg', 'đừng', 'đực', 'đựng', 'đựoc', 'đựu', 'đựợc', 'ĩa', 'ơi', 'ơii', 'ơiii', 'ơiiii', 'ơn', 'ư_ư', 'ưa', 'ưiiii', 'ưiiiiiiii', 'ưng', 'ưu_tú', 'ưu_đãi', 'ương', 'ước', 'ước_gì', 'ước_mơ', 'ưới', 'ướp', 'ướt', 'ướt_nhẹp', 'ảnh', 'ảnh_hưởng', 'ảo', 'ảo_tưởng', 'ấm', 'ấm_lòng', 'ấm_áp', 'ấn', 'ấn_tượng', 'ấp', 'ất_ơ', 'ấu', 'ấu_trĩ', 'ấy', 'ầm', 'ầm_ầm', 'ẩn_danh', 'ẩn_dụ', 'ẩu', 'ẩu_tả', 'ập', 'ắt', 'ẳm', 'ẹc', 'ẻm', 'ỉa', 'ỉn', 'ỏoo', 'ốc', 'ốc_bươu', 'ốc_bươu_vàng', 'ối', 'ốm', 'ốm_nhom', 'ốm_đau', 'ống', 'ốp', 'ồ_ồ', 'ồn', 'ổ_bánh_mì', 'ổ_chuột', 'ổn', 'ổn_định', 'ổng', 'ớn', 'ớt', 'ở_xểnh', 'ụa', 'ủa', 'ủi', 'ủng_hộ', 'ứa', 'ức_chế', 'ứng', 'ứng_dụng']\n",
      "\n",
      "\n",
      "\n"
     ]
    }
   ],
   "source": [
    "trainY = pd.Series(trainY, name=\"Emotion\").to_frame()\n",
    "validY = pd.Series(validY, name=\"Emotion\").to_frame()\n",
    "\n",
    "trainValidX = pd.concat([dataTrainUIT, dataValidUIT]).reset_index(drop=True)\n",
    "trainValidX = text_process(trainValidX)\n",
    "trainValidY = pd.concat([trainY, validY]).reset_index(drop=True)\n",
    "\n",
    "trainX, testX, trainY, testY = train_test_split(trainValidX, trainValidY, test_size=0.33, random_state=42)\n",
    "model = model.fit(trainX, trainY)\n",
    "predY = model.predict(testX)\n"
   ]
  },
  {
   "cell_type": "markdown",
   "metadata": {},
   "source": [
    "#### 2.3 Performance metrics (Accuracy, F1-score…) for the test sets in UIT-VSMEC"
   ]
  },
  {
   "cell_type": "code",
   "execution_count": 20,
   "metadata": {},
   "outputs": [
    {
     "name": "stdout",
     "output_type": "stream",
     "text": [
      "Average of Accuracy: 0.358600583090379\n",
      "Average of F1_Score: 0.35792786624529066\n",
      "Average of Precision: 0.358923368012908\n"
     ]
    }
   ],
   "source": [
    "Accuracy  = []\n",
    "Precision = []\n",
    "F1_Score  = []\n",
    "\n",
    "Accuracy.append(accuracy_score(testY, predY))\n",
    "F1_Score.append(f1_score(testY, predY, average='weighted'))  # Could change to None,'weighted','micro','macro'\n",
    "Precision.append(precision_score(testY, predY, average='weighted'))\n",
    "\n",
    "averageAccuracy = sum(Accuracy)/len(Accuracy)\n",
    "print(\"Average of Accuracy:\", averageAccuracy)\n",
    "averageF1_Score = sum(F1_Score)/len(F1_Score)\n",
    "print(\"Average of F1_Score:\", averageF1_Score)\n",
    "averagePrecision = sum(Precision)/len(Precision)\n",
    "print(\"Average of Precision:\", averagePrecision)"
   ]
  },
  {
   "cell_type": "markdown",
   "metadata": {},
   "source": [
    "### TASK 3: APPLYING THE TRAINED MODEL IN TASK 2 TO THREE DATASETS IN TASK 1"
   ]
  },
  {
   "cell_type": "markdown",
   "metadata": {},
   "source": [
    "#### 3.1 Applying the trained model in Task 2 to three datasets in Task 1"
   ]
  },
  {
   "cell_type": "code",
   "execution_count": 21,
   "metadata": {},
   "outputs": [
    {
     "name": "stdout",
     "output_type": "stream",
     "text": [
      "['00', '19', '27', '29', '33', '34', '43', '44', '_anh', '_chất', '_khoa', '_mến', '_yêu', 'ae', 'ahhah', 'ai', 'anh', 'anh_hùng', 'aroma', 'back', 'bay', 'biết', 'bà', 'bài', 'bát', 'béo', 'bên', 'bón', 'bạn', 'bả', 'bắm', 'bể', 'bị', 'bốc', 'bộ', 'bờ', 'bụi', 'bụng', 'bửa', 'camera', 'cameraman', 'cameramen', 'canada', 'cao', 'cao_số', 'caramel', 'caramen', 'chiến_tranh', 'cho', 'chuyến', 'chuẩn', 'chào_hỏi', 'chào_khoa', 'chân', 'chém', 'chén', 'chú', 'chúc', 'chơi', 'chưa', 'chạy', 'chảy', 'chấm', 'chất', 'chắc', 'chỉ', 'chị', 'chịu', 'chớt', 'chủ', 'chủ_tịch', 'chứ', 'clip', 'clips', 'coi', 'con', 'cute', 'càng', 'càng_ngày_càng', 'cá', 'các', 'cái', 'cân_nhắc', 'câu', 'còn', 'có', 'có_thể', 'cô', 'công_nhận', 'công_phượng', 'cùng', 'cũ', 'cũng', 'cơ_mà', 'cơm', 'cưng', 'cười', 'cười_cười', 'cường_lực', 'cạnh', 'cả', 'cảm_giác', 'cảm_thấy', 'cảnh_sát', 'cấp', 'cầm', 'cần', 'cập', 'cậu', 'cớ', 'của', 'củng', 'cứ', 'cứng', 'dang', 'dao', 'do', 'du', 'du_lịch', 'dubai', 'dành', 'dân_tộc', 'dể', 'dễ_sợ', 'dễ_thương', 'dịch', 'dốt', 'dữ', 'dựa', 'em', 'enghlish', 'fan', 'ghe', 'ghen', 'ghê', 'ghẹ', 'giao_thông', 'giao_tiếp', 'giàu', 'giúp', 'giơ', 'giả_vờ', 'giọng', 'giống', 'giờ', 'gái', 'gê', 'gì', 'gần', 'gặp', 'haha', 'hahaa', 'hay', 'hc', 'hi', 'hihi', 'hiếm', 'hiếu_khách', 'hiền', 'hiểu', 'hiện_tại', 'hok', 'how', 'hài', 'hài_hước', 'hình', 'hình_như', 'hóa', 'hót', 'hô', 'hôm', 'hông', 'hơn', 'hương_vị', 'hả', 'hầu_như', 'hết', 'họ', 'họa', 'học', 'hồi', 'hợp_lí', 'ik', 'in', 'is', 'iu', 'karamen', 'khi', 'khoa', 'khoa_học', 'khoa_pug', 'khoe', 'khoái', 'khoẻ', 'khuya', 'khách_sạn', 'khám_phá', 'khôn', 'không', 'khỏi', 'kia', 'kiểu', 'kkkkkkkk', 'ko', 'kênh', 'kêu', 'kìa', 'kưng', 'kết', 'la', 'lam', 'like', 'liền', 'liều', 'liều_mạng', 'lm', 'luôn', 'là', 'làm', 'lách', 'lên', 'lòng', 'lúc', 'lườm', 'lượt', 'lại', 'lạy', 'lấy', 'lần', 'lập', 'lắm', 'lịch_sự', 'lịch_thiệp', 'man', 'max', 'mi', 'mik', 'mk', 'mn', 'mong', 'moto', 'much', 'muối', 'muốn', 'mà', 'mà_còn', 'màu', 'mãi', 'mé', 'méo', 'mình', 'món', 'múc', 'mún', 'mút', 'mấy', 'mầm_non', 'mắc', 'mắc_cười', 'mặt', 'mẹ', 'mệt', 'mọi', 'mỏ', 'mỗi', 'một', 'một_chút', 'mới', 'mớm', 'mỹ', 'nam', 'name', 'nay', 'nc', 'nch', 'ng', 'nghe', 'nghĩ', 'ngon', 'ngoàiii', 'ngta', 'ngày', 'người', 'ngưỡng_mộ', 'ngại', 'ngủ', 'ngừng', 'nha', 'nhiều', 'nhà', 'nhà_hàng', 'nhà_vệ_sinh', 'nhân_viên', 'nhé', 'nhìn', 'nhõng', 'như', 'nhưng', 'nhường', 'nhất', 'nhẻo', 'những', 'noi', 'nào', 'này', 'nâu', 'nè', 'nên', 'nó', 'nói', 'năm', 'nơi', 'nước_miếng', 'nước_ngoài', 'nếu', 'nể', 'nỉa', 'nổi', 'nổi_tiếng', 'nội', 'nội_khoa', 'nụ_cười', 'nữa', 'ok', 'penalty', 'phiên_dịch', 'phát', 'phát_huy', 'phát_triển', 'phải', 'phết', 'phục_vụ', 'phụt', 'pug', 'pug_nha', 'pà', 'pã', 'qa', 'qua', 'quan_trọng', 'quay', 'quyết_định', 'quài', 'quá', 'quá_trời', 'quán', 'quây', 'quê', 'quảng_bá', 'quần_đùi', 'quốc_gia', 'ra', 'reveiw', 'review', 'rolex', 'ruồi', 'rất', 'rồi', 'said', 'sang', 'sang_trọng', 'sao', 'sau', 'sau_này', 'soup', 'strong', 'sup', 'sáng', 'súp', 'sút', 'sướng', 'số', 'sống', 'sợ', 'sứt', 'ta', 'tay', 'thanh_xuân', 'thanks', 'theo', 'theo_dõi', 'thik', 'thiếu', 'thiệt', 'thuê', 'thành_đạt', 'thái_độ', 'tháng', 'thân_thiện', 'thì', 'thì_ra', 'thích', 'thôi', 'thôi_thúc', 'thông_báo', 'thông_dịch_viên', 'thương', 'thấy', 'thần', 'thật', 'thật_sự', 'thế', 'thế_giới', 'thể_hiện', 'thỉnh_thoảng', 'thứ', 'thử', 'tinh_thần', 'tiếng', 'tiếnh', 'tiền', 'top', 'trái', 'tráng_dương', 'trâu', 'trên', 'trình_độ', 'trước', 'trẻ', 'trốn', 'trời', 'tui', 'tây', 'tên', 'tìm', 'tình_trạng', 'tính', 'tóc', 'tôi', 'tôm', 'tăng', 'tươi', 'tạo', 'tận', 'tỉnh', 'tịt', 'tối', 'tối_cổ', 'tối_ngày', 'tối_qua', 'tội', 'tới', 'từ', 'từ_thiện', 'từng', 'tự_hào', 'tự_nhiên', 'tự_tin', 'tự_tôn', 'tỷ_phú', 'vanga', 'vc', 'viagra', 'video', 'vip', 'việt', 'việt_nam', 'việtnam', 'vk', 'vlog', 'vn', 'volum', 'vs', 'vui', 'và', 'vào', 'vãi', 'vê', 'vì', 'vẫn', 'vậy', 'về', 'vốn', 'với', 'vợ', 'vụ', 'vừa', 'welcome', 'what', 'xe', 'xem', 'xem_mặt', 'xin', 'xong', 'xác_nhận', 'xỉu', 'xứng_đáng', 'you', 'your', 'youtuber', 'yu', 'ông', 'ăn', 'ăn_làm', 'ăn_uống', 'đang', 'đau', 'đc', 'đem', 'đen', 'đep', 'đi', 'đoạn', 'đàn_ông', 'đâu', 'đây', 'đã', 'đêm', 'đòi', 'đó', 'đói', 'đói_bụng', 'đông', 'đúng', 'đăng', 'đưa', 'đường', 'được', 'đại_sứ', 'đấy', 'đầu_tư', 'đầy', 'đẹp_trai', 'đến', 'đều', 'để', 'để_ý', 'đốt', 'đồ_ăn', 'đỡ', 'đủ', 'đừ', 'ơi', 'ước', 'ấy', 'ỉa', 'ổng', 'ủng', 'ủng_hộ', 'ức_chế']\n",
      "\n",
      "\n",
      "\n",
      "['04', '2020', '311', '920', '_chuẩn', '_cậu', 'a6', 'a_mà', 'ae', 'ai', 'akihabara', 'amazing', 'an', 'anh', 'anh_chị', 'anh_em', 'bae', 'bao_giờ', 'bay', 'bea', 'bia', 'biet', 'binhquoi_quan_binh', 'biết', 'bk', 'bo', 'bo_kobe', 'bun', 'buồn', 'bà', 'bán', 'bãi_sậy', 'bêm', 'bên', 'bình_dân', 'bí_mật', 'bít', 'bò', 'bù', 'bạn', 'bản', 'bắt', 'bếp', 'bị', 'bịch', 'bọn', 'bộ', 'bữa', 'ca', 'cam', 'cameraman', 'cameramen', 'caramen', 'cha', 'chi', 'chia', 'cho', 'chu_đáo', 'chuẩn', 'chào', 'chính', 'chú', 'chúc', 'chơi', 'chưa', 'chảy', 'chấm', 'chất', 'chắc', 'chặn', 'chết_cười', 'chỉ', 'chỉ_thiên', 'chị', 'chủ_tịch', 'chứ', 'chừng', 'chữ', 'ciết', 'clip', 'cmt', 'coi', 'coke', 'corona', 'cu_đơ', 'cube', 'cung_cách', 'cuối_cùng', 'cuộc_đời', 'càng', 'cá', 'các', 'cách', 'cái', 'cái_rụp', 'câu', 'cây', 'còn', 'có', 'có_mặt', 'cô', 'cũng', 'cơm', 'cười', 'cười_sặc', 'cải', 'cảm_nghĩ', 'cảm_nhận', 'cảm_xúc', 'cất', 'cần', 'cận_cảnh', 'cắn', 'cỡ', 'của', 'cứ', 'cử_chỉ', 'da', 'dc', 'decor', 'di', 'du_lịch', 'dubai', 'dy', 'dài', 'dám', 'dòng', 'dường', 'dạng', 'dải', 'dịch', 'em', 'fan', 'food', 'ghiền', 'ghê', 'ghệ', 'giả_vờ', 'giận', 'giống', 'giới_thiệu', 'gái', 'gì', 'gạt', 'gần', 'gần_gũi', 'gặm', 'gặp', 'gọn', 'gốc', 'haha', 'hay', 'hiểu', 'hoàng', 'hy_vọng', 'hà', 'hài', 'hành_động', 'hình_dong', 'hóng', 'hôm', 'hông', 'hơn', 'hả', 'hấp_dẫn', 'hẳn', 'hết', 'hỏi', 'istanbul', 'jav', 'khen', 'khi', 'khoa', 'khoái', 'khu', 'khác', 'khách', 'khách_hàng', 'khô', 'không', 'khúc', 'khổ', 'khổ_thân', 'khỗi', 'kia', 'kitchen', 'kiểu_cách', 'kk', 'ko', 'kobe', 'kéo', 'kênh', 'kêu', 'kì', 'ký', 'kẹo', 'kết', 'kỹ', 'lai', 'landmark', 'lao_động', 'like', 'liên_tục', 'lo', 'loại', 'lui', 'lun', 'luôn', 'là', 'làm', 'làm_ăn', 'lên', 'lùa', 'lúa', 'lương', 'lưỡi', 'lượt', 'lại', 'lạy', 'lấy', 'lần', 'lầu', 'lắm', 'lẹ', 'lịch_sự', 'mai', 'mang', 'miếng', 'mog', 'mong', 'muối', 'muốn', 'mà', 'mày', 'má', 'mát_xa', 'mãi', 'mê', 'mì', 'mình', 'món', 'mùa', 'mượn', 'mất', 'mấy', 'mắc', 'mặc', 'mặc_dù', 'mặt', 'mẹ', 'mỏi', 'mồ_hôi', 'mổ', 'một', 'mới', 'mới_đầu', 'mời', 'mỳ', 'nam', 'never', 'nghe', 'nghèo', 'nghĩ', 'ngon', 'ngon_miệng', 'ngoài', 'ngta', 'nguội', 'ngày', 'người', 'ngậm_ngùi', 'ngặm', 'ngồi', 'nha', 'nhanh', 'nhau', 'nhiều', 'nhiệt_tình', 'nho', 'nhoe_nhoét', 'nhà', 'nhà_hàng', 'nhà_vệ_sinh', 'nhân_viên', 'nhây', 'nhìn', 'nhìu', 'nhĩ', 'như', 'như_vầy', 'nhưng', 'nhạc', 'nhất', 'nhật', 'nhật_bản', 'nhắc', 'nhỉ_kì', 'nhỏ', 'nhớ', 'nhờ', 'những', 'nuôi', 'nào', 'này', 'nè', 'nên', 'nó', 'nói', 'nói_chuyện', 'nói_dạ_dạ', 'nơi', 'nước', 'nước_miếng', 'nấu', 'nữ', 'nữa', 'ok', 'ong', 'pakistan', 'phá', 'phát', 'phương', 'phường', 'phải', 'phở', 'phụ', 'phục_vụ', 'preview', 'pu', 'qua', 'quay', 'quay_phim', 'quài', 'quá', 'quên', 'quận', 'ra', 'rat', 'resort', 'reveiw_cộng_hoà', 'revew', 'review', 'reviewer', 'rewiew', 'riview', 'ruột', 'rì', 'rùi', 'răng', 'rất', 'rắc', 'rắc_rắc', 'rắt', 'rồi', 'rớt', 'salt', 'salt_bae', 'saltbae', 'sang_trọng', 'sao', 'sasimi', 'see', 'set', 'show', 'sinh', 'suốt', 'séc', 'sẻ', 'sẽ', 'sợ', 'sợi', 'sức_khỏe', 'ta', 'tao', 'tay', 'tay_chân', 'tham_gia', 'thanh', 'thik', 'thoi', 'thu_thanh', 'thui', 'thành_công', 'thánh', 'thân_thiện', 'thèm', 'thì', 'thích', 'thính', 'thôi', 'thông_báo', 'thông_dịch_viên', 'thương', 'thượng_hạng', 'thượng_đế', 'thấy', 'thẳng', 'thế', 'thế_là', 'thế_nào', 'thịt', 'thổ', 'thỗ', 'thời_gian', 'thức_ăn', 'tinh_tế', 'tiêu_chí', 'tiến', 'tiếng', 'tiếp_tân', 'toi', 'toàn', 'tr', 'trang_trí', 'trc', 'trong', 'trên', 'trình_độ', 'trước', 'trại', 'tui', 'tuyển', 'tào_lao', 'táo', 'táy_máy', 'tía_lia', 'tôn_trọng', 'tôn_đức_thắng', 'tĩnh', 'tưởng', 'tận', 'tận_tình', 'tết', 'tỉnh_thành', 'tốt', 'tội_nghiệp', 'tới', 'tủ_lạnh', 'từ', 'tự', 'tự_nhiên', 'uong', 'uống', 'uổng', 'va', 'vd', 'video', 'viu', 'viétub', 'việt', 'vn', 'vs', 'vu_vơ', 'vua', 'vui', 'và', 'vài', 'vào', 'vân_sơn', 'vãi', 'vì', 'vô', 'vạch', 'vậy', 'về', 'vốn_dĩ', 'với', 'vụ', 'vừa', 'xd', 'xem', 'xem_lại', 'xin', 'xin_phép', 'xong', 'xuất_xứ', 'xuống', 'xúc_xích', 'xương_bò', 'xịn', 'youtube', 'áo', 'ít', 'ông', 'ăn', 'ăn_nguội', 'ăn_uống', 'đang', 'đc', 'đi', 'đáng', 'đích', 'đó', 'đói', 'đĩa', 'đơn_giản', 'đưa', 'đương', 'đường', 'được', 'đảm_bảo', 'đầu_bếp', 'đẹp', 'đến', 'đề_nghị', 'để', 'đỉnh', 'đọc', 'đồ', 'đồ_ăn', 'đồng_ý', 'độ', 'đở', 'đỡ', 'đứa', 'đừng', 'ơi', 'ấn', 'ấy', 'ỉa', 'ổng', 'ỗng', 'ủng_hộ']\n",
      "\n",
      "\n",
      "\n"
     ]
    },
    {
     "name": "stdout",
     "output_type": "stream",
     "text": [
      "['00', '19', '2021', '59', '_nhớ', '_thương', '_vl', '_youtube', 'a_khoa', 'ae', 'ai', 'ai_cập', 'anh', 'anh_em', 'ađ', 'banh', 'bao_giờ', 'bay', 'bh', 'biên', 'biến', 'biết', 'black_hole', 'bug', 'bác', 'bánh', 'báo_chí', 'bây', 'bây_giờ', 'bây_h', 'bên', 'bình_an', 'bình_yên', 'bíp', 'bít', 'bùng', 'bùng_phát', 'bạn', 'bảo_trọng', 'bằng', 'bệnh', 'bị', 'bịch', 'bỏ_xa', 'bố_mẹ', 'bức_xúc', 'camera', 'cameraman', 'can_đảm', 'cao_sang', 'caramen', 'ch', 'chi_chít', 'cho', 'chán', 'chân_thật', 'chín', 'chóng_mặt', 'chú', 'chúc', 'chơi', 'chảnh', 'chảo', 'chắc', 'chẳng', 'chết', 'chỉ', 'chị', 'chịu', 'chỗ', 'chớ', 'chời', 'chục', 'chủ_đề', 'chứ', 'clip', 'coi', 'con', 'con_người', 'corona', 'cov', 'covid', 'covit', 'cuộc_sống', 'cá_nhân', 'các', 'cách', 'cái', 'cám_ơn', 'còi', 'còn', 'có', 'có_lẽ', 'có_thể', 'có_vẻ', 'cô', 'công_việc', 'cúm_corona', 'căng', 'cũng', 'cả', 'cảm_thấy', 'cảm_tạ', 'cảm_ơn', 'cảnh', 'cấm', 'cầu', 'cầu_mong', 'cẩn_thận', 'cập', 'cố', 'cổ_đại', 'cớ', 'của', 'cứ', 'danh_sách', 'di', 'du_lịch', 'dude', 'duy_nhất', 'dân', 'dân_dã', 'dân_tộc', 'dù', 'dùm', 'dạo', 'dầu', 'dễ_sợ', 'dịch', 'dịch_bệnh', 'dự_đoán', 'em', 'for', 'ghê', 'giúp', 'giật', 'giống', 'giờ', 'giờ_phút', 'giữ', 'gái', 'gì', 'gần', 'gầy', 'gắn', 'gọi', 'hai', 'haizzz', 'hay', 'hay_là', 'hay_sao', 'hi', 'hic', 'hiếp_dâm', 'hiểu', 'hiện', 'hoang_mang', 'hong', 'hot', 'huhu', 'hành_động', 'hình_ảnh', 'hôm_nay', 'hông', 'hơn', 'hướng_dẫn_viên', 'hạnh_phúc', 'hầu_như', 'hằng', 'hẳng', 'hết', 'hết_hồn', 'họ', 'họa', 'hỏa_thêu', 'hồi', 'hồi_hộp', 'hổm', 'hộ', 'india', 'kakakak', 'khi', 'khoa', 'khoapug', 'khá', 'khác', 'khó', 'không', 'khẩu_trang', 'khỏi', 'khống_chế', 'khổ', 'kinh_khủng', 'kiểu', 'ko', 'kt', 'kênh', 'kêu', 'kể_cả', 'kịp', 'kịpppp', 'lao', 'like', 'liên', 'liên_quan', 'liên_tưởng', 'liên_tục', 'liêu', 'lo', 'lun', 'luyên_thuyên', 'luôn', 'là', 'làm', 'làm_sao', 'làm_việc', 'lâu', 'lâu_đời', 'lên', 'lúc', 'lướt', 'lượt', 'lại', 'lấy', 'lần', 'lắc_lư', 'lắc_đầu', 'lắm', 'lặn_lội', 'lễ_hội', 'lịch_sử', 'lỗ_tai', 'lộn_xộn', 'lớn', 'lời', 'lỡ', 'man', 'mang', 'may', 'may_mắn', 'miệng', 'mong', 'mua', 'muốn', 'mà', 'mà_còn', 'màu', 'mé', 'mê', 'mình', 'mùa', 'mười', 'mạc_pháp', 'mạnh', 'mất', 'mấy', 'mắt', 'mặt', 'mến', 'mọi', 'mỗi', 'một', 'mới', 'nam', 'nay', 'nc', 'ng', 'ngay', 'nghe', 'nghèo', 'nghèo_đói', 'nghĩ', 'ngoi', 'nguoi', 'nguy_hiểm', 'nguời', 'ngàn', 'ngày', 'người', 'người_ta', 'ngại', 'nha', 'nha_khoa', 'nhanh', 'nhi', 'nhiều', 'nhiễm', 'nhé', 'nhìn', 'nhún', 'như', 'nhảy', 'nhất', 'nhận', 'nhớ', 'những', 'nào', 'này', 'nè', 'nên', 'nó', 'nói', 'năm', 'năm_mới', 'năm_ngoái', 'nơi', 'nước', 'nước_mắt', 'nước_ngoài', 'nầy', 'nằm', 'nếu', 'nổi', 'nổi_tiếng', 'nữa', 'oi', 'ok', 'phim', 'phong_cách', 'phát', 'phát_hiện', 'phân', 'phép', 'phóng', 'phút', 'phước', 'phước_đức', 'phật', 'pug', 'qua', 'quan_tâm', 'quay', 'quyết', 'quài', 'quá', 'quỷ', 'ra', 'review', 'rip', 'rài', 'rì', 'rùi', 'rất', 'rồi', 'rớt', 'rửa', 'sai', 'sang', 'sao', 'sau', 'sharing', 'shocked', 'sinh', 'sk', 'sát_khuẩn', 'sông', 'sơ_sơ', 'sạch', 'sạp', 'sảy', 'sẽ', 'số', 'số_phận', 'sống', 'sớm', 'sức_khoẻ', 'sức_khỏe', 'sự', 't_k', 'ta', 'tan', 'thanks', 'theo', 'thik', 'thiêu', 'thiêu_xác', 'thiệt', 'thoát', 'thuyết_giảng', 'thân', 'thêm', 'thì', 'thích', 'thôi', 'thú', 'thương', 'thước', 'thảm_hoạ', 'thảm_họa', 'thấy', 'thần_thánh', 'thậm_chí', 'thật', 'thật_là', 'thật_sự', 'thế', 'thế_giới', 'thế_mà', 'thồi', 'thời', 'thời_điểm', 'thứ', 'thử', 'thực_tế', 'tin', 'tin_tức', 'tiên_tri_sao', 'tiếp', 'tiền', 'toang', 'top', 'toàn_tập', 'tr', 'trc', 'trong', 'trên', 'trôi', 'trăm_ngàn', 'trước', 'trở_thành', 'tsao', 'tui', 'tuyệt_vời', 'tâm', 'tên', 'tìm_hiểu', 'tình_hình', 'tí', 'tóc', 'tôi', 'túi', 'tươi_đẹp', 'tương_lai', 'tưởng', 'tại', 'tại_sao', 'tấm_lòng', 'tẩu', 'tập_thể', 'tắm', 'tốt', 'tốt_bụng', 'tốt_đẹp', 'tổ_quốc', 'tội', 'tội_nghiệp', 'tới', 'từ', 'tự_dưng', 'tự_hào', 'tự_nhiên', 'tự_động', 'ui', 'uầy', 'vd', 'vid', 'video', 'vietnam', 'view', 'việt', 'việt_nam', 'vn', 'và', 'vào', 'vì', 'vô', 'vô_ý_thức', 'vầy', 'vẫn', 'vậy', 'vậy_mà', 'vắng_vẻ', 'về', 'với', 'vụ', 'vừa', 'wieu', 'xa_lạ', 'xem', 'xem_lại', 'xinh_đẹp', 'xong', 'xuống', 'xì_xì', 'xưa', 'youtube', 'youtuber', 'yên_bình', 'yêu', 'ít', 'ô_nhiễm', 'ôi', 'ông', 'ăn', 'ăn_xin', 'đa_số', 'đang', 'đau_lòng', 'đc', 'đen', 'đeo', 'đi', 'điều', 'điểm_danh', 'đoán', 'đoạn', 'đtrai', 'đá', 'đáng', 'đâu', 'đây', 'đã', 'đó', 'đóng', 'đúng', 'đăng', 'đăng_kí', 'được', 'đại', 'đại_dịch', 'đạp', 'đất', 'đất_nước', 'đầu_tiên', 'đằng', 'đến', 'đề_xuất', 'để', 'địhj', 'đọc', 'đồ_ăn', 'độ', 'động_lực', 'đời_thường', 'đỡ', 'đợi', 'đứa', 'ơi', 'ưi', 'ảnh', 'ấn', 'ấn_tượng', 'ấn_độ', 'ấy', 'ổn', 'ổng']\n",
      "\n",
      "\n",
      "\n"
     ]
    }
   ],
   "source": [
    "dataListY1 = dataList1.Emotion\n",
    "dataListY2 = dataList2.Emotion\n",
    "dataListY3 = dataList3.Emotion\n",
    "\n",
    "dataListX1 = text_process(dataList1)\n",
    "trainX1, testX1, trainY1, testY1 = train_test_split(dataListX1, dataListY1, test_size=0.33, random_state=42)\n",
    "model = model.fit(trainX1, trainY1)\n",
    "predY1 = model.predict(testX1)\n",
    "\n",
    "dataListX2 = text_process(dataList2)\n",
    "trainX2, testX2, trainY2, testY2 = train_test_split(dataListX2, dataListY2, test_size=0.33, random_state=42)\n",
    "model = model.fit(trainX2, trainY2)\n",
    "predY2 = model.predict(testX2)\n",
    "\n",
    "dataListX3 = text_process(dataList3)\n",
    "trainX3, testX3, trainY3, testY3 = train_test_split(dataListX3, dataListY3, test_size=0.33, random_state=42)\n",
    "model = model.fit(trainX3, trainY3)\n",
    "predY3 = model.predict(testX3)"
   ]
  },
  {
   "cell_type": "markdown",
   "metadata": {},
   "source": [
    "#### 3.2 Performance metrics (Accuracy, F1-score…) for these datasets"
   ]
  },
  {
   "cell_type": "code",
   "execution_count": 22,
   "metadata": {},
   "outputs": [
    {
     "name": "stdout",
     "output_type": "stream",
     "text": [
      "Average of Accuracy 1: 0.36363636363636365\n",
      "Average of F1_Score 1: 0.36363636363636365\n",
      "Average of Precision 1: 0.36363636363636365\n",
      "Average of Accuracy 2: 0.5454545454545454\n",
      "Average of F1_Score 2: 0.5454545454545454\n",
      "Average of Precision 2: 0.5454545454545454\n",
      "Average of Accuracy 3: 0.5454545454545454\n",
      "Average of F1_Score 3: 0.21212121212121215\n",
      "Average of Precision 3: 0.21212121212121213\n"
     ]
    }
   ],
   "source": [
    "Accuracy1  = []\n",
    "Precision1 = []\n",
    "F1_Score1  = []\n",
    "\n",
    "Accuracy1.append(accuracy_score(testY1, predY1))\n",
    "F1_Score1.append(f1_score(testY1, predY1, average='micro'))  # Could change to None,'weighted','micro','macro'\n",
    "Precision1.append(precision_score(testY1, predY1, average='micro'))\n",
    "\n",
    "averageAccuracy1 = sum(Accuracy1)/len(Accuracy1)\n",
    "print(\"Average of Accuracy 1:\", averageAccuracy1)\n",
    "averageF1_Score1 = sum(F1_Score1)/len(F1_Score1)\n",
    "print(\"Average of F1_Score 1:\", averageF1_Score1)\n",
    "averagePrecision1 = sum(Precision1)/len(Precision1)\n",
    "print(\"Average of Precision 1:\", averagePrecision1)\n",
    "\n",
    "Accuracy2  = []\n",
    "Precision2 = []\n",
    "F1_Score2  = []\n",
    "\n",
    "Accuracy2.append(accuracy_score(testY2, predY2))\n",
    "F1_Score2.append(f1_score(testY2, predY2, average='micro'))  # Could change to None,'weighted','micro','macro'\n",
    "Precision2.append(precision_score(testY2, predY2, average='micro'))\n",
    "\n",
    "averageAccuracy2 = sum(Accuracy2)/len(Accuracy2)\n",
    "print(\"Average of Accuracy 2:\", averageAccuracy2)\n",
    "averageF1_Score2 = sum(F1_Score2)/len(F1_Score2)\n",
    "print(\"Average of F1_Score 2:\", averageF1_Score2)\n",
    "averagePrecision2 = sum(Precision2)/len(Precision2)\n",
    "print(\"Average of Precision 2:\", averagePrecision2)\n",
    "\n",
    "Accuracy3  = []\n",
    "Precision3 = []\n",
    "F1_Score3  = []\n",
    "\n",
    "Accuracy3.append(accuracy_score(testY3, predY3))\n",
    "F1_Score3.append(f1_score(testY3, predY3, average='micro'))  # Could change to None,'weighted','micro','macro'\n",
    "Precision3.append(precision_score(testY3, predY3, average='micro'))\n",
    "\n",
    "averageAccuracy3 = sum(Accuracy3)/len(Accuracy3)\n",
    "print(\"Average of Accuracy 3:\", averageAccuracy2)\n",
    "averageF1_Score3 = sum(F1_Score3)/len(F1_Score3)\n",
    "print(\"Average of F1_Score 3:\", averageF1_Score3)\n",
    "averagePrecision3 = sum(Precision3)/len(Precision3)\n",
    "print(\"Average of Precision 3:\", averagePrecision3)"
   ]
  },
  {
   "cell_type": "code",
   "execution_count": null,
   "metadata": {},
   "outputs": [],
   "source": []
  }
 ],
 "metadata": {
  "kernelspec": {
   "display_name": "Python 3",
   "language": "python",
   "name": "python3"
  },
  "language_info": {
   "codemirror_mode": {
    "name": "ipython",
    "version": 3
   },
   "file_extension": ".py",
   "mimetype": "text/x-python",
   "name": "python",
   "nbconvert_exporter": "python",
   "pygments_lexer": "ipython3",
   "version": "3.8.5"
  }
 },
 "nbformat": 4,
 "nbformat_minor": 4
}
